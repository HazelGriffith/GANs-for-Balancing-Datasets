{
 "cells": [
  {
   "cell_type": "markdown",
   "metadata": {},
   "source": [
    "# ResNet18 Training of Unbalanced DeepInsight Data\n",
    "**Author:** Puxin\n",
    " \n",
    "**Latest version:** 2024-12-01"
   ]
  },
  {
   "cell_type": "code",
   "execution_count": 1,
   "metadata": {
    "execution": {
     "iopub.execute_input": "2024-12-01T20:56:43.348908Z",
     "iopub.status.busy": "2024-12-01T20:56:43.348563Z",
     "iopub.status.idle": "2024-12-01T20:56:46.462413Z",
     "shell.execute_reply": "2024-12-01T20:56:46.461603Z",
     "shell.execute_reply.started": "2024-12-01T20:56:43.348863Z"
    },
    "trusted": true
   },
   "outputs": [],
   "source": [
    "import torch"
   ]
  },
  {
   "cell_type": "markdown",
   "metadata": {},
   "source": [
    "**Usage of GPU**"
   ]
  },
  {
   "cell_type": "code",
   "execution_count": 2,
   "metadata": {
    "execution": {
     "iopub.execute_input": "2024-12-01T20:56:46.464493Z",
     "iopub.status.busy": "2024-12-01T20:56:46.464112Z",
     "iopub.status.idle": "2024-12-01T20:56:46.502128Z",
     "shell.execute_reply": "2024-12-01T20:56:46.501277Z",
     "shell.execute_reply.started": "2024-12-01T20:56:46.464463Z"
    },
    "trusted": true
   },
   "outputs": [
    {
     "name": "stdout",
     "output_type": "stream",
     "text": [
      "Using device: cuda\n"
     ]
    }
   ],
   "source": [
    "device = torch.device(\"cuda\" if torch.cuda.is_available() else \"cpu\")\n",
    "print(f\"Using device: {device}\")"
   ]
  },
  {
   "cell_type": "markdown",
   "metadata": {},
   "source": [
    "**Reproducibility**"
   ]
  },
  {
   "cell_type": "code",
   "execution_count": 3,
   "metadata": {
    "execution": {
     "iopub.execute_input": "2024-12-01T20:56:46.503521Z",
     "iopub.status.busy": "2024-12-01T20:56:46.503249Z",
     "iopub.status.idle": "2024-12-01T20:56:46.523103Z",
     "shell.execute_reply": "2024-12-01T20:56:46.522377Z",
     "shell.execute_reply.started": "2024-12-01T20:56:46.503495Z"
    },
    "trusted": true
   },
   "outputs": [],
   "source": [
    "torch.backends.cudnn.deterministic = True\n",
    "torch.backends.cudnn.benchmark = False"
   ]
  },
  {
   "cell_type": "code",
   "execution_count": 4,
   "metadata": {
    "execution": {
     "iopub.execute_input": "2024-12-01T20:56:46.525964Z",
     "iopub.status.busy": "2024-12-01T20:56:46.525485Z",
     "iopub.status.idle": "2024-12-01T20:56:46.536991Z",
     "shell.execute_reply": "2024-12-01T20:56:46.536268Z",
     "shell.execute_reply.started": "2024-12-01T20:56:46.525934Z"
    },
    "trusted": true
   },
   "outputs": [],
   "source": [
    "import random\n",
    "import numpy as np\n",
    "\n",
    "def set_seed(seed):\n",
    "    random.seed(seed)\n",
    "    np.random.seed(seed)\n",
    "    torch.manual_seed(seed)\n",
    "    if torch.cuda.is_available():\n",
    "        torch.cuda.manual_seed(seed)\n",
    "        torch.cuda.manual_seed_all(seed)  \n",
    "\n",
    "set_seed(2024)"
   ]
  },
  {
   "cell_type": "markdown",
   "metadata": {},
   "source": [
    "**Original input image**"
   ]
  },
  {
   "cell_type": "code",
   "execution_count": 5,
   "metadata": {
    "execution": {
     "iopub.execute_input": "2024-12-01T20:56:46.538415Z",
     "iopub.status.busy": "2024-12-01T20:56:46.538086Z",
     "iopub.status.idle": "2024-12-01T20:56:46.561961Z",
     "shell.execute_reply": "2024-12-01T20:56:46.561157Z",
     "shell.execute_reply.started": "2024-12-01T20:56:46.538380Z"
    },
    "trusted": true
   },
   "outputs": [
    {
     "name": "stdout",
     "output_type": "stream",
     "text": [
      "Image mode: I;16\n"
     ]
    }
   ],
   "source": [
    "from PIL import Image\n",
    "\n",
    "# Load an image\n",
    "image = Image.open(\"/kaggle/input/deepinsight-unbalanced/Unbalanced/malign/sample1.png\")\n",
    "\n",
    "# Check the image mode\n",
    "print(\"Image mode:\", image.mode)"
   ]
  },
  {
   "cell_type": "markdown",
   "metadata": {},
   "source": [
    "**Load images**"
   ]
  },
  {
   "cell_type": "code",
   "execution_count": null,
   "metadata": {
    "execution": {
     "iopub.execute_input": "2024-12-01T20:56:46.563288Z",
     "iopub.status.busy": "2024-12-01T20:56:46.562981Z",
     "iopub.status.idle": "2024-12-01T20:56:47.971894Z",
     "shell.execute_reply": "2024-12-01T20:56:47.971195Z",
     "shell.execute_reply.started": "2024-12-01T20:56:46.563263Z"
    },
    "trusted": true
   },
   "outputs": [],
   "source": [
    "import torch.nn as nn\n",
    "import torchvision.transforms as transforms\n",
    "from torchvision import datasets\n",
    "from torch.utils.data import DataLoader"
   ]
  },
  {
   "cell_type": "code",
   "execution_count": 7,
   "metadata": {
    "execution": {
     "iopub.execute_input": "2024-12-01T20:56:47.973222Z",
     "iopub.status.busy": "2024-12-01T20:56:47.972873Z",
     "iopub.status.idle": "2024-12-01T20:56:47.977872Z",
     "shell.execute_reply": "2024-12-01T20:56:47.976995Z",
     "shell.execute_reply.started": "2024-12-01T20:56:47.973196Z"
    },
    "trusted": true
   },
   "outputs": [],
   "source": [
    "# Define preprocessing pipeline for the image\n",
    "transform = transforms.Compose([\n",
    "    transforms.Resize(256),\n",
    "    transforms.CenterCrop(224),\n",
    "    transforms.ToTensor(),\n",
    "    transforms.Normalize(mean=[0.485, 0.456, 0.406], std=[0.229, 0.224, 0.225]),\n",
    "])"
   ]
  },
  {
   "cell_type": "code",
   "execution_count": 8,
   "metadata": {
    "execution": {
     "iopub.execute_input": "2024-12-01T20:56:47.980192Z",
     "iopub.status.busy": "2024-12-01T20:56:47.979722Z",
     "iopub.status.idle": "2024-12-01T20:56:50.903101Z",
     "shell.execute_reply": "2024-12-01T20:56:50.902173Z",
     "shell.execute_reply.started": "2024-12-01T20:56:47.980165Z"
    },
    "trusted": true
   },
   "outputs": [],
   "source": [
    "dataset_path = \"/kaggle/input/deepinsight-unbalanced/Unbalanced\"\n",
    "dataset = datasets.ImageFolder(root=dataset_path, transform=transform)"
   ]
  },
  {
   "cell_type": "code",
   "execution_count": 9,
   "metadata": {
    "execution": {
     "iopub.execute_input": "2024-12-01T20:56:50.904533Z",
     "iopub.status.busy": "2024-12-01T20:56:50.904190Z",
     "iopub.status.idle": "2024-12-01T20:56:50.909247Z",
     "shell.execute_reply": "2024-12-01T20:56:50.908448Z",
     "shell.execute_reply.started": "2024-12-01T20:56:50.904498Z"
    },
    "trusted": true
   },
   "outputs": [
    {
     "name": "stdout",
     "output_type": "stream",
     "text": [
      "{0: 'benign', 1: 'malign'}\n"
     ]
    }
   ],
   "source": [
    "# Get a dictionary associating the class index with the class name\n",
    "target_to_class = {v: k for k, v in dataset.class_to_idx.items()}\n",
    "print(target_to_class)"
   ]
  },
  {
   "cell_type": "code",
   "execution_count": null,
   "metadata": {
    "execution": {
     "iopub.execute_input": "2024-12-01T20:56:50.912008Z",
     "iopub.status.busy": "2024-12-01T20:56:50.911740Z",
     "iopub.status.idle": "2024-12-01T20:56:50.920107Z",
     "shell.execute_reply": "2024-12-01T20:56:50.919308Z",
     "shell.execute_reply.started": "2024-12-01T20:56:50.911984Z"
    },
    "trusted": true
   },
   "outputs": [
    {
     "name": "stdout",
     "output_type": "stream",
     "text": [
      "Classes: ['benign', 'malign']\n",
      "Class: benign, Count: 3000\n",
      "Class: malign, Count: 1465\n"
     ]
    }
   ],
   "source": [
    "from collections import Counter\n",
    "\n",
    "labels = dataset.targets\n",
    "\n",
    "label_counts = Counter(labels)\n",
    "\n",
    "# Print the counts for each label\n",
    "print(f\"Classes: {dataset.classes}\")\n",
    "for label, count in label_counts.items():\n",
    "    class_name = dataset.classes[label]  \n",
    "    print(f\"Class: {class_name}, Count: {count}\")"
   ]
  },
  {
   "cell_type": "markdown",
   "metadata": {},
   "source": [
    "**Split the data: stratified split**"
   ]
  },
  {
   "cell_type": "code",
   "execution_count": 11,
   "metadata": {
    "execution": {
     "iopub.execute_input": "2024-12-01T20:56:50.921460Z",
     "iopub.status.busy": "2024-12-01T20:56:50.921250Z",
     "iopub.status.idle": "2024-12-01T20:56:51.526017Z",
     "shell.execute_reply": "2024-12-01T20:56:51.525272Z",
     "shell.execute_reply.started": "2024-12-01T20:56:50.921440Z"
    },
    "trusted": true
   },
   "outputs": [],
   "source": [
    "from sklearn.model_selection import train_test_split\n",
    "\n",
    "labels = dataset.targets\n",
    "\n",
    "train_idx, test_idx = train_test_split(\n",
    "    np.arange(len(labels)),\n",
    "    test_size=0.2,\n",
    "    random_state=2024,\n",
    "    shuffle=True,\n",
    "    stratify=labels)"
   ]
  },
  {
   "cell_type": "code",
   "execution_count": 12,
   "metadata": {
    "execution": {
     "iopub.execute_input": "2024-12-01T20:56:51.527361Z",
     "iopub.status.busy": "2024-12-01T20:56:51.526977Z",
     "iopub.status.idle": "2024-12-01T20:56:51.531996Z",
     "shell.execute_reply": "2024-12-01T20:56:51.531213Z",
     "shell.execute_reply.started": "2024-12-01T20:56:51.527335Z"
    },
    "trusted": true
   },
   "outputs": [
    {
     "name": "stdout",
     "output_type": "stream",
     "text": [
      "Training set count: 3572\n",
      "test set count: 893\n"
     ]
    }
   ],
   "source": [
    "print(f\"Training set count: {len(train_idx)}\")\n",
    "print(f\"test set count: {len(test_idx)}\")"
   ]
  },
  {
   "cell_type": "code",
   "execution_count": 13,
   "metadata": {
    "execution": {
     "iopub.execute_input": "2024-12-01T20:56:51.533459Z",
     "iopub.status.busy": "2024-12-01T20:56:51.533144Z",
     "iopub.status.idle": "2024-12-01T20:56:51.546399Z",
     "shell.execute_reply": "2024-12-01T20:56:51.545605Z",
     "shell.execute_reply.started": "2024-12-01T20:56:51.533422Z"
    },
    "trusted": true
   },
   "outputs": [],
   "source": [
    "from torch.utils.data import Subset\n",
    "\n",
    "# Subset dataset for train and test\n",
    "train_dataset = Subset(dataset, train_idx)\n",
    "test_dataset= Subset(dataset, test_idx)\n",
    "\n",
    "# Dataloader for train and test\n",
    "train_loader = DataLoader(train_dataset, batch_size=37, shuffle=False) \n",
    "test_loader = DataLoader(test_dataset, batch_size=37, shuffle=False)"
   ]
  },
  {
   "cell_type": "code",
   "execution_count": null,
   "metadata": {
    "execution": {
     "iopub.execute_input": "2024-12-01T20:56:51.547465Z",
     "iopub.status.busy": "2024-12-01T20:56:51.547241Z",
     "iopub.status.idle": "2024-12-01T20:56:51.849904Z",
     "shell.execute_reply": "2024-12-01T20:56:51.849014Z",
     "shell.execute_reply.started": "2024-12-01T20:56:51.547442Z"
    },
    "trusted": true
   },
   "outputs": [
    {
     "name": "stdout",
     "output_type": "stream",
     "text": [
      "Images batch shape: torch.Size([37, 3, 224, 224])\n",
      "Labels batch: tensor([0, 1, 0, 0, 0, 1, 0, 0, 0, 1, 0, 0, 1, 0, 1, 0, 1, 0, 1, 1, 0, 1, 0, 1,\n",
      "        0, 0, 0, 0, 1, 1, 0, 0, 1, 0, 0, 0, 0])\n"
     ]
    }
   ],
   "source": [
    "for images, labels in train_loader:\n",
    "    print(f\"Images batch shape: {images.shape}\")  \n",
    "    print(f\"Labels batch: {labels}\")\n",
    "    break"
   ]
  },
  {
   "cell_type": "code",
   "execution_count": 15,
   "metadata": {
    "execution": {
     "iopub.execute_input": "2024-12-01T20:56:51.851274Z",
     "iopub.status.busy": "2024-12-01T20:56:51.850986Z",
     "iopub.status.idle": "2024-12-01T20:56:52.039683Z",
     "shell.execute_reply": "2024-12-01T20:56:52.038823Z",
     "shell.execute_reply.started": "2024-12-01T20:56:51.851248Z"
    },
    "trusted": true
   },
   "outputs": [
    {
     "name": "stdout",
     "output_type": "stream",
     "text": [
      "Images batch shape: torch.Size([37, 3, 224, 224])\n",
      "Labels batch: tensor([0, 0, 0, 0, 1, 0, 1, 0, 1, 0, 1, 0, 0, 0, 0, 1, 1, 0, 1, 0, 1, 1, 0, 0,\n",
      "        0, 1, 0, 1, 0, 0, 0, 1, 1, 1, 0, 1, 0])\n"
     ]
    }
   ],
   "source": [
    "for images, labels in test_loader:\n",
    "    print(f\"Images batch shape: {images.shape}\")  \n",
    "    print(f\"Labels batch: {labels}\")\n",
    "    break"
   ]
  },
  {
   "cell_type": "markdown",
   "metadata": {},
   "source": [
    "**ResNet18**"
   ]
  },
  {
   "cell_type": "code",
   "execution_count": 16,
   "metadata": {
    "execution": {
     "iopub.execute_input": "2024-12-01T20:56:52.041301Z",
     "iopub.status.busy": "2024-12-01T20:56:52.041029Z",
     "iopub.status.idle": "2024-12-01T20:56:52.045170Z",
     "shell.execute_reply": "2024-12-01T20:56:52.044195Z",
     "shell.execute_reply.started": "2024-12-01T20:56:52.041274Z"
    },
    "trusted": true
   },
   "outputs": [],
   "source": [
    "import torchvision.models as models"
   ]
  },
  {
   "cell_type": "code",
   "execution_count": 17,
   "metadata": {
    "execution": {
     "iopub.execute_input": "2024-12-01T20:56:52.046456Z",
     "iopub.status.busy": "2024-12-01T20:56:52.046146Z",
     "iopub.status.idle": "2024-12-01T20:56:52.255006Z",
     "shell.execute_reply": "2024-12-01T20:56:52.254162Z",
     "shell.execute_reply.started": "2024-12-01T20:56:52.046427Z"
    },
    "trusted": true
   },
   "outputs": [
    {
     "name": "stdout",
     "output_type": "stream",
     "text": [
      "Linear(in_features=512, out_features=1, bias=True)\n"
     ]
    }
   ],
   "source": [
    "model = models.resnet18(weights=None)\n",
    "\n",
    "# Modify the final fully connected layer\n",
    "model.fc = nn.Linear(model.fc.in_features, 1)\n",
    "\n",
    "# Print the modified fc layer\n",
    "print(model.fc)"
   ]
  },
  {
   "cell_type": "code",
   "execution_count": 18,
   "metadata": {
    "execution": {
     "iopub.execute_input": "2024-12-01T20:56:52.256493Z",
     "iopub.status.busy": "2024-12-01T20:56:52.256140Z",
     "iopub.status.idle": "2024-12-01T20:56:52.261520Z",
     "shell.execute_reply": "2024-12-01T20:56:52.260672Z",
     "shell.execute_reply.started": "2024-12-01T20:56:52.256455Z"
    },
    "trusted": true
   },
   "outputs": [],
   "source": [
    "#loss\n",
    "loss_fn = nn.BCEWithLogitsLoss()\n",
    "\n",
    "#optimizer\n",
    "optimizer = torch.optim.Adam(model.parameters(), lr=1.1924159908509038e-05, weight_decay=0.010242202281967362) "
   ]
  },
  {
   "cell_type": "code",
   "execution_count": 19,
   "metadata": {
    "execution": {
     "iopub.execute_input": "2024-12-01T20:56:52.262851Z",
     "iopub.status.busy": "2024-12-01T20:56:52.262540Z",
     "iopub.status.idle": "2024-12-01T20:56:52.274520Z",
     "shell.execute_reply": "2024-12-01T20:56:52.273904Z",
     "shell.execute_reply.started": "2024-12-01T20:56:52.262810Z"
    },
    "trusted": true
   },
   "outputs": [],
   "source": [
    "def test_phase(model, test_loader):\n",
    "    model.eval()  \n",
    "    test_loss = 0\n",
    "    test_correct = 0\n",
    "    \n",
    "    with torch.no_grad():  \n",
    "        for images, labels in test_loader:\n",
    "            images, labels = images.to(device), labels.to(device)\n",
    "            \n",
    "            logits = model(images)\n",
    "            probs = torch.sigmoid(logits)\n",
    "            preds = (probs > 0.5).long().squeeze(1)\n",
    "            test_correct += (preds == labels).sum().item()\n",
    "            \n",
    "            loss = loss_fn(logits, labels.unsqueeze(1).float())\n",
    "            test_loss += loss.item() * labels.size(0)\n",
    "    \n",
    "    # Compute average test loss and accuracy\n",
    "    avg_test_loss = test_loss / len(test_loader.dataset)\n",
    "    test_accuracy = test_correct / len(test_loader.dataset)\n",
    "    return avg_test_loss, test_accuracy"
   ]
  },
  {
   "cell_type": "code",
   "execution_count": 20,
   "metadata": {
    "execution": {
     "iopub.execute_input": "2024-12-01T20:56:52.275549Z",
     "iopub.status.busy": "2024-12-01T20:56:52.275309Z",
     "iopub.status.idle": "2024-12-01T21:24:27.690945Z",
     "shell.execute_reply": "2024-12-01T21:24:27.690000Z",
     "shell.execute_reply.started": "2024-12-01T20:56:52.275525Z"
    },
    "trusted": true
   },
   "outputs": [
    {
     "name": "stdout",
     "output_type": "stream",
     "text": [
      "Epoch 1/100, Train Loss: 0.49, Test Loss: 0.56, Train Accuracy: 0.79, Test Accuracy: 0.74\n",
      "Epoch 2/100, Train Loss: 0.35, Test Loss: 0.39, Train Accuracy: 0.87, Test Accuracy: 0.84\n",
      "Epoch 3/100, Train Loss: 0.29, Test Loss: 0.50, Train Accuracy: 0.89, Test Accuracy: 0.80\n",
      "Epoch 4/100, Train Loss: 0.25, Test Loss: 0.45, Train Accuracy: 0.91, Test Accuracy: 0.81\n",
      "Epoch 5/100, Train Loss: 0.22, Test Loss: 0.35, Train Accuracy: 0.92, Test Accuracy: 0.89\n",
      "Epoch 6/100, Train Loss: 0.19, Test Loss: 1.22, Train Accuracy: 0.93, Test Accuracy: 0.43\n",
      "Epoch 7/100, Train Loss: 0.16, Test Loss: 3.38, Train Accuracy: 0.94, Test Accuracy: 0.39\n",
      "Epoch 8/100, Train Loss: 0.14, Test Loss: 4.89, Train Accuracy: 0.96, Test Accuracy: 0.38\n",
      "Epoch 9/100, Train Loss: 0.12, Test Loss: 4.80, Train Accuracy: 0.96, Test Accuracy: 0.38\n",
      "Epoch 10/100, Train Loss: 0.11, Test Loss: 0.79, Train Accuracy: 0.97, Test Accuracy: 0.57\n",
      "Epoch 11/100, Train Loss: 0.10, Test Loss: 5.01, Train Accuracy: 0.97, Test Accuracy: 0.40\n",
      "Epoch 12/100, Train Loss: 0.09, Test Loss: 3.97, Train Accuracy: 0.98, Test Accuracy: 0.40\n",
      "Epoch 13/100, Train Loss: 0.08, Test Loss: 4.55, Train Accuracy: 0.98, Test Accuracy: 0.39\n",
      "Epoch 14/100, Train Loss: 0.07, Test Loss: 2.96, Train Accuracy: 0.98, Test Accuracy: 0.45\n",
      "Epoch 15/100, Train Loss: 0.09, Test Loss: 6.43, Train Accuracy: 0.98, Test Accuracy: 0.41\n",
      "Epoch 16/100, Train Loss: 0.08, Test Loss: 4.44, Train Accuracy: 0.97, Test Accuracy: 0.42\n",
      "Epoch 17/100, Train Loss: 0.08, Test Loss: 7.56, Train Accuracy: 0.98, Test Accuracy: 0.39\n",
      "Epoch 18/100, Train Loss: 0.07, Test Loss: 0.42, Train Accuracy: 0.98, Test Accuracy: 0.76\n",
      "Epoch 19/100, Train Loss: 0.07, Test Loss: 0.62, Train Accuracy: 0.98, Test Accuracy: 0.81\n",
      "Epoch 20/100, Train Loss: 0.06, Test Loss: 8.21, Train Accuracy: 0.98, Test Accuracy: 0.39\n",
      "Epoch 21/100, Train Loss: 0.05, Test Loss: 8.57, Train Accuracy: 0.99, Test Accuracy: 0.39\n",
      "Epoch 22/100, Train Loss: 0.05, Test Loss: 5.41, Train Accuracy: 0.99, Test Accuracy: 0.41\n",
      "Epoch 23/100, Train Loss: 0.04, Test Loss: 4.84, Train Accuracy: 0.99, Test Accuracy: 0.41\n",
      "Epoch 24/100, Train Loss: 0.04, Test Loss: 5.91, Train Accuracy: 0.99, Test Accuracy: 0.42\n",
      "Epoch 25/100, Train Loss: 0.03, Test Loss: 0.67, Train Accuracy: 0.99, Test Accuracy: 0.83\n",
      "Epoch 26/100, Train Loss: 0.04, Test Loss: 0.76, Train Accuracy: 0.99, Test Accuracy: 0.81\n",
      "Epoch 27/100, Train Loss: 0.04, Test Loss: 0.18, Train Accuracy: 0.99, Test Accuracy: 0.93\n",
      "Epoch 28/100, Train Loss: 0.04, Test Loss: 1.10, Train Accuracy: 0.99, Test Accuracy: 0.80\n",
      "Epoch 29/100, Train Loss: 0.03, Test Loss: 0.28, Train Accuracy: 0.99, Test Accuracy: 0.90\n",
      "Epoch 30/100, Train Loss: 0.04, Test Loss: 0.44, Train Accuracy: 0.99, Test Accuracy: 0.86\n",
      "Epoch 31/100, Train Loss: 0.04, Test Loss: 0.20, Train Accuracy: 0.99, Test Accuracy: 0.92\n",
      "Epoch 32/100, Train Loss: 0.03, Test Loss: 1.01, Train Accuracy: 0.99, Test Accuracy: 0.81\n",
      "Epoch 33/100, Train Loss: 0.04, Test Loss: 1.10, Train Accuracy: 0.99, Test Accuracy: 0.77\n",
      "Epoch 34/100, Train Loss: 0.04, Test Loss: 0.82, Train Accuracy: 0.99, Test Accuracy: 0.79\n",
      "Epoch 35/100, Train Loss: 0.05, Test Loss: 0.87, Train Accuracy: 0.99, Test Accuracy: 0.81\n",
      "Epoch 36/100, Train Loss: 0.05, Test Loss: 0.23, Train Accuracy: 0.99, Test Accuracy: 0.90\n",
      "Epoch 37/100, Train Loss: 0.03, Test Loss: 1.10, Train Accuracy: 0.99, Test Accuracy: 0.80\n",
      "Epoch 38/100, Train Loss: 0.03, Test Loss: 0.65, Train Accuracy: 0.99, Test Accuracy: 0.82\n",
      "Epoch 39/100, Train Loss: 0.03, Test Loss: 1.16, Train Accuracy: 0.99, Test Accuracy: 0.72\n",
      "Epoch 40/100, Train Loss: 0.03, Test Loss: 0.99, Train Accuracy: 0.99, Test Accuracy: 0.78\n",
      "Epoch 41/100, Train Loss: 0.03, Test Loss: 1.13, Train Accuracy: 0.99, Test Accuracy: 0.76\n",
      "Epoch 42/100, Train Loss: 0.02, Test Loss: 1.01, Train Accuracy: 0.99, Test Accuracy: 0.74\n",
      "Epoch 43/100, Train Loss: 0.04, Test Loss: 0.99, Train Accuracy: 0.99, Test Accuracy: 0.74\n",
      "Epoch 44/100, Train Loss: 0.03, Test Loss: 0.59, Train Accuracy: 0.99, Test Accuracy: 0.82\n",
      "Epoch 45/100, Train Loss: 0.02, Test Loss: 0.66, Train Accuracy: 0.99, Test Accuracy: 0.74\n",
      "Epoch 46/100, Train Loss: 0.02, Test Loss: 1.38, Train Accuracy: 0.99, Test Accuracy: 0.76\n",
      "Epoch 47/100, Train Loss: 0.03, Test Loss: 0.77, Train Accuracy: 0.99, Test Accuracy: 0.79\n",
      "Epoch 48/100, Train Loss: 0.03, Test Loss: 0.42, Train Accuracy: 0.99, Test Accuracy: 0.85\n",
      "Epoch 49/100, Train Loss: 0.03, Test Loss: 0.86, Train Accuracy: 0.99, Test Accuracy: 0.81\n",
      "Epoch 50/100, Train Loss: 0.03, Test Loss: 1.57, Train Accuracy: 0.99, Test Accuracy: 0.58\n",
      "Epoch 51/100, Train Loss: 0.03, Test Loss: 6.16, Train Accuracy: 0.99, Test Accuracy: 0.42\n",
      "Epoch 52/100, Train Loss: 0.03, Test Loss: 2.94, Train Accuracy: 0.99, Test Accuracy: 0.53\n",
      "Epoch 53/100, Train Loss: 0.03, Test Loss: 3.76, Train Accuracy: 0.99, Test Accuracy: 0.48\n",
      "Epoch 54/100, Train Loss: 0.03, Test Loss: 0.25, Train Accuracy: 0.99, Test Accuracy: 0.89\n",
      "Epoch 55/100, Train Loss: 0.03, Test Loss: 7.01, Train Accuracy: 0.99, Test Accuracy: 0.43\n",
      "Epoch 56/100, Train Loss: 0.04, Test Loss: 0.26, Train Accuracy: 0.99, Test Accuracy: 0.90\n",
      "Epoch 57/100, Train Loss: 0.02, Test Loss: 6.29, Train Accuracy: 0.99, Test Accuracy: 0.40\n",
      "Epoch 58/100, Train Loss: 0.02, Test Loss: 4.19, Train Accuracy: 0.99, Test Accuracy: 0.47\n",
      "Epoch 59/100, Train Loss: 0.02, Test Loss: 6.84, Train Accuracy: 0.99, Test Accuracy: 0.41\n",
      "Epoch 60/100, Train Loss: 0.02, Test Loss: 4.49, Train Accuracy: 1.00, Test Accuracy: 0.48\n",
      "Epoch 61/100, Train Loss: 0.02, Test Loss: 1.11, Train Accuracy: 1.00, Test Accuracy: 0.66\n",
      "Epoch 62/100, Train Loss: 0.01, Test Loss: 1.05, Train Accuracy: 1.00, Test Accuracy: 0.68\n",
      "Epoch 63/100, Train Loss: 0.02, Test Loss: 4.12, Train Accuracy: 0.99, Test Accuracy: 0.46\n",
      "Epoch 64/100, Train Loss: 0.03, Test Loss: 3.63, Train Accuracy: 0.99, Test Accuracy: 0.48\n",
      "Epoch 65/100, Train Loss: 0.02, Test Loss: 5.32, Train Accuracy: 0.99, Test Accuracy: 0.41\n",
      "Epoch 66/100, Train Loss: 0.02, Test Loss: 0.17, Train Accuracy: 0.99, Test Accuracy: 0.95\n",
      "Epoch 67/100, Train Loss: 0.03, Test Loss: 0.77, Train Accuracy: 0.99, Test Accuracy: 0.83\n",
      "Epoch 68/100, Train Loss: 0.04, Test Loss: 0.71, Train Accuracy: 0.99, Test Accuracy: 0.84\n",
      "Epoch 69/100, Train Loss: 0.02, Test Loss: 1.16, Train Accuracy: 0.99, Test Accuracy: 0.62\n",
      "Epoch 70/100, Train Loss: 0.02, Test Loss: 0.71, Train Accuracy: 0.99, Test Accuracy: 0.85\n",
      "Epoch 71/100, Train Loss: 0.02, Test Loss: 0.19, Train Accuracy: 0.99, Test Accuracy: 0.95\n",
      "Epoch 72/100, Train Loss: 0.02, Test Loss: 4.02, Train Accuracy: 0.99, Test Accuracy: 0.46\n",
      "Epoch 73/100, Train Loss: 0.02, Test Loss: 0.38, Train Accuracy: 1.00, Test Accuracy: 0.87\n",
      "Epoch 74/100, Train Loss: 0.02, Test Loss: 1.31, Train Accuracy: 0.99, Test Accuracy: 0.59\n",
      "Epoch 75/100, Train Loss: 0.02, Test Loss: 13.07, Train Accuracy: 0.99, Test Accuracy: 0.38\n",
      "Epoch 76/100, Train Loss: 0.02, Test Loss: 0.55, Train Accuracy: 1.00, Test Accuracy: 0.87\n",
      "Epoch 77/100, Train Loss: 0.01, Test Loss: 3.35, Train Accuracy: 1.00, Test Accuracy: 0.52\n",
      "Epoch 78/100, Train Loss: 0.02, Test Loss: 4.45, Train Accuracy: 0.99, Test Accuracy: 0.49\n",
      "Epoch 79/100, Train Loss: 0.01, Test Loss: 0.48, Train Accuracy: 1.00, Test Accuracy: 0.88\n",
      "Epoch 80/100, Train Loss: 0.01, Test Loss: 1.24, Train Accuracy: 1.00, Test Accuracy: 0.80\n",
      "Epoch 81/100, Train Loss: 0.01, Test Loss: 1.07, Train Accuracy: 1.00, Test Accuracy: 0.70\n",
      "Epoch 82/100, Train Loss: 0.03, Test Loss: 2.97, Train Accuracy: 0.99, Test Accuracy: 0.44\n",
      "Epoch 83/100, Train Loss: 0.02, Test Loss: 4.88, Train Accuracy: 0.99, Test Accuracy: 0.43\n",
      "Epoch 84/100, Train Loss: 0.01, Test Loss: 0.89, Train Accuracy: 1.00, Test Accuracy: 0.84\n",
      "Epoch 85/100, Train Loss: 0.02, Test Loss: 0.25, Train Accuracy: 0.99, Test Accuracy: 0.92\n",
      "Epoch 86/100, Train Loss: 0.01, Test Loss: 0.62, Train Accuracy: 1.00, Test Accuracy: 0.81\n",
      "Epoch 87/100, Train Loss: 0.02, Test Loss: 5.64, Train Accuracy: 0.99, Test Accuracy: 0.43\n",
      "Epoch 88/100, Train Loss: 0.01, Test Loss: 0.31, Train Accuracy: 1.00, Test Accuracy: 0.92\n",
      "Epoch 89/100, Train Loss: 0.02, Test Loss: 0.21, Train Accuracy: 0.99, Test Accuracy: 0.92\n",
      "Epoch 90/100, Train Loss: 0.02, Test Loss: 5.59, Train Accuracy: 0.99, Test Accuracy: 0.45\n",
      "Epoch 91/100, Train Loss: 0.01, Test Loss: 0.58, Train Accuracy: 1.00, Test Accuracy: 0.86\n",
      "Epoch 92/100, Train Loss: 0.01, Test Loss: 0.25, Train Accuracy: 1.00, Test Accuracy: 0.92\n",
      "Epoch 93/100, Train Loss: 0.02, Test Loss: 0.58, Train Accuracy: 0.99, Test Accuracy: 0.86\n",
      "Epoch 94/100, Train Loss: 0.01, Test Loss: 0.64, Train Accuracy: 1.00, Test Accuracy: 0.86\n",
      "Epoch 95/100, Train Loss: 0.01, Test Loss: 5.04, Train Accuracy: 1.00, Test Accuracy: 0.46\n",
      "Epoch 96/100, Train Loss: 0.02, Test Loss: 0.87, Train Accuracy: 0.99, Test Accuracy: 0.79\n",
      "Epoch 97/100, Train Loss: 0.01, Test Loss: 0.43, Train Accuracy: 1.00, Test Accuracy: 0.85\n",
      "Epoch 98/100, Train Loss: 0.03, Test Loss: 0.69, Train Accuracy: 0.99, Test Accuracy: 0.83\n",
      "Epoch 99/100, Train Loss: 0.01, Test Loss: 5.66, Train Accuracy: 1.00, Test Accuracy: 0.42\n",
      "Epoch 100/100, Train Loss: 0.01, Test Loss: 1.35, Train Accuracy: 1.00, Test Accuracy: 0.70\n"
     ]
    }
   ],
   "source": [
    "num_epochs = 100\n",
    "torch.manual_seed(2024)\n",
    "train_losses = []\n",
    "test_losses = []\n",
    "train_accuracies = []\n",
    "test_accuracies = []\n",
    "model.to(device)\n",
    "\n",
    "for epoch in range(num_epochs):\n",
    "    # Training phase\n",
    "    model.train()\n",
    "    train_loss = 0\n",
    "    train_correct = 0\n",
    "    \n",
    "    for images, labels in train_loader:\n",
    "        images, labels = images.to(device), labels.to(device)\n",
    "        \n",
    "        optimizer.zero_grad()\n",
    "        logits = model(images)\n",
    "        loss = loss_fn(logits, labels.unsqueeze(1).float())\n",
    "        \n",
    "        probs = torch.sigmoid(logits)\n",
    "        preds = (probs > 0.5).long().squeeze(1)\n",
    "        train_correct += (preds == labels).sum().item()\n",
    "        \n",
    "        loss.backward()\n",
    "        optimizer.step()\n",
    "        \n",
    "        train_loss += loss.item() * labels.size(0)\n",
    "\n",
    "    avg_train_loss = train_loss / len(train_loader.dataset)\n",
    "    train_accuracy = train_correct / len(train_loader.dataset)\n",
    "\n",
    "    # Test phase\n",
    "    test_result = test_phase(model, test_loader)\n",
    "    \n",
    "    print(f\"Epoch {epoch+1}/{num_epochs}, Train Loss: {avg_train_loss:.2f}, Test Loss: {test_result[0]:.2f}, Train Accuracy: {train_accuracy:.2f}, Test Accuracy: {test_result[1]:.2f}\")\n",
    "    train_losses.append(avg_train_loss)\n",
    "    test_losses.append(test_result[0])\n",
    "    train_accuracies.append(train_accuracy)\n",
    "    test_accuracies.append(test_result[1])\n",
    "    \n",
    "    if test_result[0] < 0.2 or test_result[1] > 0.87:\n",
    "        torch.save(model.state_dict(), f\"ResNet18_DI_ub_epoch{epoch+1}.pth\")\n",
    "        torch.save(model.state_dict(), f\"ResNet18_DI_ub_epoch{epoch+1}.pt\")"
   ]
  },
  {
   "cell_type": "markdown",
   "metadata": {},
   "source": [
    "**Learning Curve**"
   ]
  },
  {
   "cell_type": "code",
   "execution_count": null,
   "metadata": {
    "execution": {
     "iopub.execute_input": "2024-12-01T21:25:00.558525Z",
     "iopub.status.busy": "2024-12-01T21:25:00.557945Z",
     "iopub.status.idle": "2024-12-01T21:25:00.798167Z",
     "shell.execute_reply": "2024-12-01T21:25:00.797381Z",
     "shell.execute_reply.started": "2024-12-01T21:25:00.558496Z"
    },
    "trusted": true
   },
   "outputs": [
    {
     "data": {
      "image/png": "[encoded data removed]",
      "text/plain": [
       "<Figure size 1200x500 with 1 Axes>"
      ]
     },
     "metadata": {},
     "output_type": "display_data"
    }
   ],
   "source": [
    "import matplotlib.pyplot as plt\n",
    "\n",
    "# Plotting the loss curve\n",
    "plt.figure(figsize=(12, 5))\n",
    "plt.subplot(1, 2, 1)\n",
    "plt.plot(range(1, num_epochs + 1), train_losses, label='Training Loss', color='blue')\n",
    "plt.plot(range(1, num_epochs + 1), test_losses, label='Test Loss', color='orange')\n",
    "plt.xlabel('Epochs')\n",
    "plt.ylabel('Loss')\n",
    "plt.legend()\n",
    "plt.grid()\n",
    "\n",
    "plt.show()"
   ]
  },
  {
   "cell_type": "code",
   "execution_count": null,
   "metadata": {
    "execution": {
     "iopub.execute_input": "2024-12-01T21:25:11.163250Z",
     "iopub.status.busy": "2024-12-01T21:25:11.162940Z",
     "iopub.status.idle": "2024-12-01T21:25:11.404660Z",
     "shell.execute_reply": "2024-12-01T21:25:11.403811Z",
     "shell.execute_reply.started": "2024-12-01T21:25:11.163224Z"
    },
    "trusted": true
   },
   "outputs": [
    {
     "data": {
      "image/png": "[encoded data removed]",
      "text/plain": [
       "<Figure size 1200x500 with 1 Axes>"
      ]
     },
     "metadata": {},
     "output_type": "display_data"
    }
   ],
   "source": [
    "# Plotting the accuracy curve\n",
    "plt.figure(figsize=(12, 5))\n",
    "plt.subplot(1, 2, 1)\n",
    "plt.plot(range(1, num_epochs + 1), train_accuracies, label='Training Accuracy', color='blue')\n",
    "plt.plot(range(1, num_epochs + 1), test_accuracies, label='Test Accuracy', color='orange')\n",
    "plt.xlabel('Epochs')\n",
    "plt.ylabel('Accuracy')\n",
    "plt.legend()\n",
    "plt.grid()\n",
    "\n",
    "plt.show()"
   ]
  }
 ],
 "metadata": {
  "kaggle": {
   "accelerator": "gpu",
   "dataSources": [
    {
     "datasetId": 6156958,
     "sourceId": 10002496,
     "sourceType": "datasetVersion"
    },
    {
     "datasetId": 6157812,
     "sourceId": 10003753,
     "sourceType": "datasetVersion"
    }
   ],
   "dockerImageVersionId": 30787,
   "isGpuEnabled": true,
   "isInternetEnabled": true,
   "language": "python",
   "sourceType": "notebook"
  },
  "kernelspec": {
   "display_name": "Python 3",
   "language": "python",
   "name": "python3"
  },
  "language_info": {
   "codemirror_mode": {
    "name": "ipython",
    "version": 3
   },
   "file_extension": ".py",
   "mimetype": "text/x-python",
   "name": "python",
   "nbconvert_exporter": "python",
   "pygments_lexer": "ipython3",
   "version": "3.10.14"
  }
 },
 "nbformat": 4,
 "nbformat_minor": 4
}
