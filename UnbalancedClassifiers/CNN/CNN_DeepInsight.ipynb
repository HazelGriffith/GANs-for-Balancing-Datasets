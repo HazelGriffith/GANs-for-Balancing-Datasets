{
 "cells": [
  {
   "cell_type": "markdown",
   "metadata": {},
   "source": [
    "# CNN Training of DeepInsight Data\n",
    "**Author:** Puxin\n",
    " \n",
    "**Latest version date:** 2024-11-17  \n"
   ]
  },
  {
   "cell_type": "code",
   "execution_count": 1,
   "metadata": {
    "execution": {
     "iopub.execute_input": "2024-11-18T00:53:00.524209Z",
     "iopub.status.busy": "2024-11-18T00:53:00.523241Z",
     "iopub.status.idle": "2024-11-18T00:53:03.845277Z",
     "shell.execute_reply": "2024-11-18T00:53:03.844310Z",
     "shell.execute_reply.started": "2024-11-18T00:53:00.524156Z"
    },
    "trusted": true
   },
   "outputs": [],
   "source": [
    "import torch"
   ]
  },
  {
   "cell_type": "markdown",
   "metadata": {},
   "source": [
    "**Usage of GPU**"
   ]
  },
  {
   "cell_type": "code",
   "execution_count": 2,
   "metadata": {
    "execution": {
     "iopub.execute_input": "2024-11-18T00:53:03.847885Z",
     "iopub.status.busy": "2024-11-18T00:53:03.847396Z",
     "iopub.status.idle": "2024-11-18T00:53:03.897742Z",
     "shell.execute_reply": "2024-11-18T00:53:03.896515Z",
     "shell.execute_reply.started": "2024-11-18T00:53:03.847841Z"
    },
    "trusted": true
   },
   "outputs": [
    {
     "name": "stdout",
     "output_type": "stream",
     "text": [
      "Using device: cuda\n"
     ]
    }
   ],
   "source": [
    "device = torch.device(\"cuda\" if torch.cuda.is_available() else \"cpu\")\n",
    "print(f\"Using device: {device}\")"
   ]
  },
  {
   "cell_type": "markdown",
   "metadata": {},
   "source": [
    "**Reproducibility**"
   ]
  },
  {
   "cell_type": "code",
   "execution_count": 3,
   "metadata": {
    "execution": {
     "iopub.execute_input": "2024-11-18T00:53:03.900014Z",
     "iopub.status.busy": "2024-11-18T00:53:03.899043Z",
     "iopub.status.idle": "2024-11-18T00:53:03.907240Z",
     "shell.execute_reply": "2024-11-18T00:53:03.906235Z",
     "shell.execute_reply.started": "2024-11-18T00:53:03.899965Z"
    },
    "trusted": true
   },
   "outputs": [],
   "source": [
    "torch.backends.cudnn.deterministic = True\n",
    "torch.backends.cudnn.benchmark = False"
   ]
  },
  {
   "cell_type": "code",
   "execution_count": 4,
   "metadata": {
    "execution": {
     "iopub.execute_input": "2024-11-18T00:53:03.909141Z",
     "iopub.status.busy": "2024-11-18T00:53:03.908473Z",
     "iopub.status.idle": "2024-11-18T00:53:03.918360Z",
     "shell.execute_reply": "2024-11-18T00:53:03.917397Z",
     "shell.execute_reply.started": "2024-11-18T00:53:03.909107Z"
    },
    "trusted": true
   },
   "outputs": [],
   "source": [
    "import random\n",
    "import numpy as np"
   ]
  },
  {
   "cell_type": "code",
   "execution_count": 5,
   "metadata": {
    "execution": {
     "iopub.execute_input": "2024-11-18T00:53:03.921183Z",
     "iopub.status.busy": "2024-11-18T00:53:03.920858Z",
     "iopub.status.idle": "2024-11-18T00:53:03.933480Z",
     "shell.execute_reply": "2024-11-18T00:53:03.932585Z",
     "shell.execute_reply.started": "2024-11-18T00:53:03.921139Z"
    },
    "trusted": true
   },
   "outputs": [],
   "source": [
    "def set_seed(seed):\n",
    "    random.seed(seed)\n",
    "    np.random.seed(seed)\n",
    "    torch.manual_seed(seed)\n",
    "    if torch.cuda.is_available():\n",
    "        torch.cuda.manual_seed(seed)\n",
    "        torch.cuda.manual_seed_all(seed)  # for multi-GPU setups\n",
    "\n",
    "set_seed(42)"
   ]
  },
  {
   "cell_type": "markdown",
   "metadata": {},
   "source": [
    "**Original input image**"
   ]
  },
  {
   "cell_type": "code",
   "execution_count": 6,
   "metadata": {
    "execution": {
     "iopub.execute_input": "2024-11-18T00:53:03.935396Z",
     "iopub.status.busy": "2024-11-18T00:53:03.935026Z",
     "iopub.status.idle": "2024-11-18T00:53:03.983171Z",
     "shell.execute_reply": "2024-11-18T00:53:03.982312Z",
     "shell.execute_reply.started": "2024-11-18T00:53:03.935355Z"
    },
    "trusted": true
   },
   "outputs": [
    {
     "name": "stdout",
     "output_type": "stream",
     "text": [
      "This image is not RGB\n",
      "Image mode: I;16\n"
     ]
    }
   ],
   "source": [
    "from PIL import Image\n",
    "\n",
    "# Load the image\n",
    "image = Image.open('/kaggle/input/deepinsight/DeepInsight/benign/sample1.png')\n",
    "\n",
    "# Check the image mode\n",
    "print(\"This image is not RGB\") if image.mode != 'RGB' else print(\"This image is RGB\")\n",
    "print(\"Image mode:\", image.mode)"
   ]
  },
  {
   "cell_type": "markdown",
   "metadata": {},
   "source": [
    "**Load images**"
   ]
  },
  {
   "cell_type": "code",
   "execution_count": 7,
   "metadata": {
    "execution": {
     "iopub.execute_input": "2024-11-18T00:53:03.984592Z",
     "iopub.status.busy": "2024-11-18T00:53:03.984268Z",
     "iopub.status.idle": "2024-11-18T00:53:05.151337Z",
     "shell.execute_reply": "2024-11-18T00:53:05.150299Z",
     "shell.execute_reply.started": "2024-11-18T00:53:03.984560Z"
    },
    "trusted": true
   },
   "outputs": [],
   "source": [
    "import torch.nn as nn\n",
    "from torchvision import datasets, transforms\n",
    "from torch.utils.data import DataLoader"
   ]
  },
  {
   "cell_type": "code",
   "execution_count": 8,
   "metadata": {
    "execution": {
     "iopub.execute_input": "2024-11-18T00:53:05.153116Z",
     "iopub.status.busy": "2024-11-18T00:53:05.152607Z",
     "iopub.status.idle": "2024-11-18T00:53:05.158468Z",
     "shell.execute_reply": "2024-11-18T00:53:05.157375Z",
     "shell.execute_reply.started": "2024-11-18T00:53:05.153071Z"
    },
    "trusted": true
   },
   "outputs": [],
   "source": [
    "def convert_I_mode(image):\n",
    "    # Convert 'I' mode images to 'L'\n",
    "    if image.mode == 'I':\n",
    "        image = image.convert('L')\n",
    "    return image"
   ]
  },
  {
   "cell_type": "code",
   "execution_count": 9,
   "metadata": {
    "execution": {
     "iopub.execute_input": "2024-11-18T00:53:05.160351Z",
     "iopub.status.busy": "2024-11-18T00:53:05.159954Z",
     "iopub.status.idle": "2024-11-18T00:53:05.168211Z",
     "shell.execute_reply": "2024-11-18T00:53:05.167236Z",
     "shell.execute_reply.started": "2024-11-18T00:53:05.160275Z"
    },
    "trusted": true
   },
   "outputs": [],
   "source": [
    "# Define the transformations\n",
    "# Convert to grayscale, 16x16 resize to 64x64, and convert to tensor\n",
    "transform = transforms.Compose([\n",
    "    transforms.Lambda(convert_I_mode),            # Custom transformation\n",
    "    transforms.Grayscale(num_output_channels=1),  # Convert to grayscale\n",
    "    transforms.Resize((64, 64)),                  # Resize to 64x64\n",
    "    transforms.ToTensor(),                        # Convert image to tensor\n",
    "])"
   ]
  },
  {
   "cell_type": "code",
   "execution_count": 10,
   "metadata": {
    "execution": {
     "iopub.execute_input": "2024-11-18T00:53:05.169882Z",
     "iopub.status.busy": "2024-11-18T00:53:05.169534Z",
     "iopub.status.idle": "2024-11-18T00:53:07.462034Z",
     "shell.execute_reply": "2024-11-18T00:53:07.461016Z",
     "shell.execute_reply.started": "2024-11-18T00:53:05.169842Z"
    },
    "trusted": true
   },
   "outputs": [],
   "source": [
    "dataset_path = \"/kaggle/input/deepinsight/DeepInsight\"\n",
    "dataset = datasets.ImageFolder(root=dataset_path, transform=transform)"
   ]
  },
  {
   "cell_type": "code",
   "execution_count": 11,
   "metadata": {
    "execution": {
     "iopub.execute_input": "2024-11-18T00:53:07.463546Z",
     "iopub.status.busy": "2024-11-18T00:53:07.463215Z",
     "iopub.status.idle": "2024-11-18T00:53:07.468897Z",
     "shell.execute_reply": "2024-11-18T00:53:07.468045Z",
     "shell.execute_reply.started": "2024-11-18T00:53:07.463512Z"
    },
    "trusted": true
   },
   "outputs": [
    {
     "name": "stdout",
     "output_type": "stream",
     "text": [
      "{0: 'benign', 1: 'malign'}\n"
     ]
    }
   ],
   "source": [
    "# Get a dictionary associating the class index with the class name\n",
    "target_to_class = {v: k for k, v in dataset.class_to_idx.items()}\n",
    "print(target_to_class)"
   ]
  },
  {
   "cell_type": "code",
   "execution_count": 12,
   "metadata": {
    "execution": {
     "iopub.execute_input": "2024-11-18T00:53:07.470266Z",
     "iopub.status.busy": "2024-11-18T00:53:07.469993Z",
     "iopub.status.idle": "2024-11-18T00:53:07.483359Z",
     "shell.execute_reply": "2024-11-18T00:53:07.482380Z",
     "shell.execute_reply.started": "2024-11-18T00:53:07.470236Z"
    },
    "trusted": true
   },
   "outputs": [
    {
     "name": "stdout",
     "output_type": "stream",
     "text": [
      "Classes: ['benign', 'malign']\n",
      "Class: benign, Count: 3000\n",
      "Class: malign, Count: 1465\n"
     ]
    }
   ],
   "source": [
    "from collections import Counter\n",
    "\n",
    "# Get the labels from the dataset\n",
    "labels = dataset.targets\n",
    "\n",
    "# Count the occurrences of each label\n",
    "label_counts = Counter(labels)\n",
    "\n",
    "# Print the counts for each label\n",
    "print(f\"Classes: {dataset.classes}\")\n",
    "for label, count in label_counts.items():\n",
    "    class_name = dataset.classes[label]  # Get class name from label index\n",
    "    print(f\"Class: {class_name}, Count: {count}\")"
   ]
  },
  {
   "cell_type": "markdown",
   "metadata": {},
   "source": [
    "**Split the data: stratified split**"
   ]
  },
  {
   "cell_type": "code",
   "execution_count": 13,
   "metadata": {
    "execution": {
     "iopub.execute_input": "2024-11-18T00:53:07.485278Z",
     "iopub.status.busy": "2024-11-18T00:53:07.484911Z",
     "iopub.status.idle": "2024-11-18T00:53:08.220308Z",
     "shell.execute_reply": "2024-11-18T00:53:08.219337Z",
     "shell.execute_reply.started": "2024-11-18T00:53:07.485237Z"
    },
    "trusted": true
   },
   "outputs": [],
   "source": [
    "from sklearn.model_selection import train_test_split\n",
    "labels = dataset.targets\n",
    "\n",
    "train_idx, test_idx = train_test_split(\n",
    "    np.arange(len(labels)),\n",
    "    test_size=0.2,\n",
    "    random_state=42,\n",
    "    shuffle=True,\n",
    "    stratify=labels)"
   ]
  },
  {
   "cell_type": "code",
   "execution_count": 14,
   "metadata": {
    "execution": {
     "iopub.execute_input": "2024-11-18T00:53:08.225863Z",
     "iopub.status.busy": "2024-11-18T00:53:08.225214Z",
     "iopub.status.idle": "2024-11-18T00:53:08.230812Z",
     "shell.execute_reply": "2024-11-18T00:53:08.229764Z",
     "shell.execute_reply.started": "2024-11-18T00:53:08.225826Z"
    },
    "trusted": true
   },
   "outputs": [
    {
     "name": "stdout",
     "output_type": "stream",
     "text": [
      "Training set count: 3572\n",
      "test set count: 893\n"
     ]
    }
   ],
   "source": [
    "print(f\"Training set count: {len(train_idx)}\")\n",
    "print(f\"test set count: {len(test_idx)}\")"
   ]
  },
  {
   "cell_type": "code",
   "execution_count": 15,
   "metadata": {
    "execution": {
     "iopub.execute_input": "2024-11-18T00:53:08.232596Z",
     "iopub.status.busy": "2024-11-18T00:53:08.232209Z",
     "iopub.status.idle": "2024-11-18T00:53:08.246864Z",
     "shell.execute_reply": "2024-11-18T00:53:08.245982Z",
     "shell.execute_reply.started": "2024-11-18T00:53:08.232553Z"
    },
    "trusted": true
   },
   "outputs": [],
   "source": [
    "from torch.utils.data import Subset\n",
    "# Subset dataset for train and test\n",
    "train_dataset = Subset(dataset, train_idx)\n",
    "test_dataset= Subset(dataset, test_idx)\n",
    "\n",
    "# Dataloader for train and test\n",
    "train_loader = DataLoader(train_dataset, batch_size=32, shuffle=False) # For reproducibility\n",
    "test_loader = DataLoader(test_dataset, batch_size=32, shuffle=False)"
   ]
  },
  {
   "cell_type": "code",
   "execution_count": 16,
   "metadata": {
    "execution": {
     "iopub.execute_input": "2024-11-18T00:53:08.249053Z",
     "iopub.status.busy": "2024-11-18T00:53:08.248287Z",
     "iopub.status.idle": "2024-11-18T00:53:08.424881Z",
     "shell.execute_reply": "2024-11-18T00:53:08.423615Z",
     "shell.execute_reply.started": "2024-11-18T00:53:08.249009Z"
    },
    "trusted": true
   },
   "outputs": [
    {
     "name": "stdout",
     "output_type": "stream",
     "text": [
      "Images batch shape: torch.Size([32, 1, 64, 64])\n",
      "Labels batch: tensor([0, 0, 0, 0, 0, 0, 1, 1, 0, 1, 1, 0, 0, 1, 1, 0, 0, 0, 0, 0, 0, 0, 1, 1,\n",
      "        1, 1, 0, 1, 0, 0, 0, 0])\n"
     ]
    }
   ],
   "source": [
    "for images, labels in train_loader:\n",
    "    print(f\"Images batch shape: {images.shape}\")  # [batch_size, 1, H, W] for grayscale\n",
    "    print(f\"Labels batch: {labels}\")\n",
    "    break"
   ]
  },
  {
   "cell_type": "code",
   "execution_count": 17,
   "metadata": {
    "execution": {
     "iopub.execute_input": "2024-11-18T00:53:08.427039Z",
     "iopub.status.busy": "2024-11-18T00:53:08.426341Z",
     "iopub.status.idle": "2024-11-18T00:53:08.525009Z",
     "shell.execute_reply": "2024-11-18T00:53:08.524098Z",
     "shell.execute_reply.started": "2024-11-18T00:53:08.426994Z"
    },
    "trusted": true
   },
   "outputs": [
    {
     "name": "stdout",
     "output_type": "stream",
     "text": [
      "Images batch shape: torch.Size([32, 1, 64, 64])\n",
      "Labels batch: tensor([0, 1, 0, 0, 0, 1, 0, 0, 0, 1, 0, 0, 0, 0, 0, 1, 0, 0, 1, 0, 0, 1, 0, 0,\n",
      "        0, 1, 0, 1, 1, 1, 1, 0])\n"
     ]
    }
   ],
   "source": [
    "for images, labels in test_loader:\n",
    "    print(f\"Images batch shape: {images.shape}\")  # [batch_size, 1, H, W] for grayscale\n",
    "    print(f\"Labels batch: {labels}\")\n",
    "    break"
   ]
  },
  {
   "cell_type": "markdown",
   "metadata": {},
   "source": [
    "**CNN**"
   ]
  },
  {
   "cell_type": "code",
   "execution_count": 18,
   "metadata": {
    "execution": {
     "iopub.execute_input": "2024-11-18T00:53:08.526856Z",
     "iopub.status.busy": "2024-11-18T00:53:08.526195Z",
     "iopub.status.idle": "2024-11-18T00:53:08.531235Z",
     "shell.execute_reply": "2024-11-18T00:53:08.530253Z",
     "shell.execute_reply.started": "2024-11-18T00:53:08.526821Z"
    },
    "trusted": true
   },
   "outputs": [],
   "source": [
    "import torch.nn.functional as F"
   ]
  },
  {
   "cell_type": "code",
   "execution_count": null,
   "metadata": {
    "execution": {
     "iopub.execute_input": "2024-11-18T00:53:08.533059Z",
     "iopub.status.busy": "2024-11-18T00:53:08.532430Z",
     "iopub.status.idle": "2024-11-18T00:53:08.711707Z",
     "shell.execute_reply": "2024-11-18T00:53:08.710698Z",
     "shell.execute_reply.started": "2024-11-18T00:53:08.533025Z"
    },
    "trusted": true
   },
   "outputs": [],
   "source": [
    "# Define the CNN architecture\n",
    "model = nn.Sequential(\n",
    "    nn.Conv2d(in_channels=1, out_channels=32, kernel_size=3, stride=1, padding=0),\n",
    "    nn.ReLU(),\n",
    "    nn.MaxPool2d(2, 2),\n",
    "    nn.Conv2d(in_channels=32, out_channels=64, kernel_size=3, stride=1, padding=0),\n",
    "    nn.ReLU(),\n",
    "    nn.MaxPool2d(kernel_size=2, stride=2, padding=1),\n",
    "            \n",
    "    nn.Flatten(),\n",
    "    nn.Linear(64 * 15 * 15, 128),\n",
    "    nn.ReLU(),\n",
    "    nn.Linear(128, 1)).to(device)"
   ]
  },
  {
   "cell_type": "code",
   "execution_count": null,
   "metadata": {
    "execution": {
     "iopub.execute_input": "2024-11-18T00:53:08.713782Z",
     "iopub.status.busy": "2024-11-18T00:53:08.713172Z",
     "iopub.status.idle": "2024-11-18T00:53:08.718898Z",
     "shell.execute_reply": "2024-11-18T00:53:08.717961Z",
     "shell.execute_reply.started": "2024-11-18T00:53:08.713747Z"
    },
    "trusted": true
   },
   "outputs": [],
   "source": [
    "#loss\n",
    "loss_fn = nn.BCEWithLogitsLoss() \n",
    "\n",
    "#optimizer\n",
    "optimizer = torch.optim.Adam(model.parameters(), lr=0.001) "
   ]
  },
  {
   "cell_type": "code",
   "execution_count": null,
   "metadata": {
    "execution": {
     "iopub.execute_input": "2024-11-18T00:53:08.720729Z",
     "iopub.status.busy": "2024-11-18T00:53:08.720342Z",
     "iopub.status.idle": "2024-11-18T00:53:08.733728Z",
     "shell.execute_reply": "2024-11-18T00:53:08.732772Z",
     "shell.execute_reply.started": "2024-11-18T00:53:08.720687Z"
    },
    "trusted": true
   },
   "outputs": [],
   "source": [
    "def test_loss(model, test_loader):\n",
    "    model.eval()           \n",
    "    test_loss = 0.0\n",
    "    \n",
    "    with torch.no_grad():  \n",
    "        for images, labels in test_loader:\n",
    "            images, labels = images.to(device), labels.to(device)\n",
    "            \n",
    "            logits = model(images)\n",
    "            loss = loss_fn(logits, labels.unsqueeze(1).float())\n",
    "            test_loss += loss.item() * labels.size(0)\n",
    "    \n",
    "    # Compute average test loss\n",
    "    avg_test_loss = test_loss / len(test_loader.dataset)\n",
    "    return avg_test_loss"
   ]
  },
  {
   "cell_type": "code",
   "execution_count": null,
   "metadata": {
    "execution": {
     "iopub.execute_input": "2024-11-18T00:53:08.735339Z",
     "iopub.status.busy": "2024-11-18T00:53:08.734958Z",
     "iopub.status.idle": "2024-11-18T01:00:56.628007Z",
     "shell.execute_reply": "2024-11-18T01:00:56.627072Z",
     "shell.execute_reply.started": "2024-11-18T00:53:08.735275Z"
    },
    "trusted": true
   },
   "outputs": [
    {
     "name": "stdout",
     "output_type": "stream",
     "text": [
      "Epoch 1/100, Train Loss: 0.4997, Test Loss: 0.3880\n",
      "Epoch 2/100, Train Loss: 0.3234, Test Loss: 0.2719\n",
      "Epoch 3/100, Train Loss: 0.2634, Test Loss: 0.2357\n",
      "Epoch 4/100, Train Loss: 0.2268, Test Loss: 0.2319\n",
      "Epoch 5/100, Train Loss: 0.2049, Test Loss: 0.2078\n",
      "Epoch 6/100, Train Loss: 0.1879, Test Loss: 0.1885\n",
      "Epoch 7/100, Train Loss: 0.1659, Test Loss: 0.1559\n",
      "Epoch 8/100, Train Loss: 0.1427, Test Loss: 0.1513\n",
      "Epoch 9/100, Train Loss: 0.1365, Test Loss: 0.1441\n",
      "Epoch 10/100, Train Loss: 0.1211, Test Loss: 0.1321\n",
      "Epoch 11/100, Train Loss: 0.1106, Test Loss: 0.1284\n",
      "Epoch 12/100, Train Loss: 0.1040, Test Loss: 0.1265\n",
      "Epoch 13/100, Train Loss: 0.0999, Test Loss: 0.1291\n",
      "Epoch 14/100, Train Loss: 0.0978, Test Loss: 0.1334\n",
      "Epoch 15/100, Train Loss: 0.0963, Test Loss: 0.1284\n",
      "Epoch 16/100, Train Loss: 0.0868, Test Loss: 0.1295\n",
      "Epoch 17/100, Train Loss: 0.0817, Test Loss: 0.1411\n",
      "Epoch 18/100, Train Loss: 0.0902, Test Loss: 0.1373\n",
      "Epoch 19/100, Train Loss: 0.0830, Test Loss: 0.1483\n",
      "Epoch 20/100, Train Loss: 0.0841, Test Loss: 0.1360\n",
      "Epoch 21/100, Train Loss: 0.0856, Test Loss: 0.1277\n",
      "Epoch 22/100, Train Loss: 0.0742, Test Loss: 0.1419\n",
      "Epoch 23/100, Train Loss: 0.0645, Test Loss: 0.1394\n",
      "Epoch 24/100, Train Loss: 0.0637, Test Loss: 0.1476\n",
      "Epoch 25/100, Train Loss: 0.0636, Test Loss: 0.1450\n",
      "Epoch 26/100, Train Loss: 0.0600, Test Loss: 0.1424\n",
      "Epoch 27/100, Train Loss: 0.0587, Test Loss: 0.1500\n",
      "Epoch 28/100, Train Loss: 0.0633, Test Loss: 0.1525\n",
      "Epoch 29/100, Train Loss: 0.0786, Test Loss: 0.1626\n",
      "Epoch 30/100, Train Loss: 0.0610, Test Loss: 0.1605\n",
      "Epoch 31/100, Train Loss: 0.0520, Test Loss: 0.1632\n",
      "Epoch 32/100, Train Loss: 0.0536, Test Loss: 0.1734\n",
      "Epoch 33/100, Train Loss: 0.0539, Test Loss: 0.1577\n",
      "Epoch 34/100, Train Loss: 0.0476, Test Loss: 0.1597\n",
      "Epoch 35/100, Train Loss: 0.0462, Test Loss: 0.1602\n",
      "Epoch 36/100, Train Loss: 0.0446, Test Loss: 0.1643\n",
      "Epoch 37/100, Train Loss: 0.0432, Test Loss: 0.1659\n",
      "Epoch 38/100, Train Loss: 0.0423, Test Loss: 0.1741\n",
      "Epoch 39/100, Train Loss: 0.0406, Test Loss: 0.1756\n",
      "Epoch 40/100, Train Loss: 0.0420, Test Loss: 0.1811\n",
      "Epoch 41/100, Train Loss: 0.0415, Test Loss: 0.1833\n",
      "Epoch 42/100, Train Loss: 0.0396, Test Loss: 0.1894\n",
      "Epoch 43/100, Train Loss: 0.0389, Test Loss: 0.1882\n",
      "Epoch 44/100, Train Loss: 0.0377, Test Loss: 0.1952\n",
      "Epoch 45/100, Train Loss: 0.0363, Test Loss: 0.2052\n",
      "Epoch 46/100, Train Loss: 0.0351, Test Loss: 0.2079\n",
      "Epoch 47/100, Train Loss: 0.0345, Test Loss: 0.2203\n",
      "Epoch 48/100, Train Loss: 0.0331, Test Loss: 0.2113\n",
      "Epoch 49/100, Train Loss: 0.0327, Test Loss: 0.2253\n",
      "Epoch 50/100, Train Loss: 0.0330, Test Loss: 0.2250\n",
      "Epoch 51/100, Train Loss: 0.0317, Test Loss: 0.2389\n",
      "Epoch 52/100, Train Loss: 0.0306, Test Loss: 0.2486\n",
      "Epoch 53/100, Train Loss: 0.0292, Test Loss: 0.2526\n",
      "Epoch 54/100, Train Loss: 0.0279, Test Loss: 0.2543\n",
      "Epoch 55/100, Train Loss: 0.0264, Test Loss: 0.2783\n",
      "Epoch 56/100, Train Loss: 0.1508, Test Loss: 0.2208\n",
      "Epoch 57/100, Train Loss: 0.0774, Test Loss: 0.1509\n",
      "Epoch 58/100, Train Loss: 0.0472, Test Loss: 0.1605\n",
      "Epoch 59/100, Train Loss: 0.0349, Test Loss: 0.1709\n",
      "Epoch 60/100, Train Loss: 0.0346, Test Loss: 0.1695\n",
      "Epoch 61/100, Train Loss: 0.0362, Test Loss: 0.1985\n",
      "Epoch 62/100, Train Loss: 0.0451, Test Loss: 0.2050\n",
      "Epoch 63/100, Train Loss: 0.0331, Test Loss: 0.1821\n",
      "Epoch 64/100, Train Loss: 0.0260, Test Loss: 0.1853\n",
      "Epoch 65/100, Train Loss: 0.0251, Test Loss: 0.1908\n",
      "Epoch 66/100, Train Loss: 0.0242, Test Loss: 0.1978\n",
      "Epoch 67/100, Train Loss: 0.0234, Test Loss: 0.1971\n",
      "Epoch 68/100, Train Loss: 0.0224, Test Loss: 0.2024\n",
      "Epoch 69/100, Train Loss: 0.0216, Test Loss: 0.2099\n",
      "Epoch 70/100, Train Loss: 0.0216, Test Loss: 0.2165\n",
      "Epoch 71/100, Train Loss: 0.0221, Test Loss: 0.2190\n",
      "Epoch 72/100, Train Loss: 0.0206, Test Loss: 0.2263\n",
      "Epoch 73/100, Train Loss: 0.0200, Test Loss: 0.2286\n",
      "Epoch 74/100, Train Loss: 0.0197, Test Loss: 0.2320\n",
      "Epoch 75/100, Train Loss: 0.0202, Test Loss: 0.2370\n",
      "Epoch 76/100, Train Loss: 0.0198, Test Loss: 0.2407\n",
      "Epoch 77/100, Train Loss: 0.0187, Test Loss: 0.2465\n",
      "Epoch 78/100, Train Loss: 0.0199, Test Loss: 0.2570\n",
      "Epoch 79/100, Train Loss: 0.0191, Test Loss: 0.2487\n",
      "Epoch 80/100, Train Loss: 0.0198, Test Loss: 0.2601\n",
      "Epoch 81/100, Train Loss: 0.0179, Test Loss: 0.2637\n",
      "Epoch 82/100, Train Loss: 0.0168, Test Loss: 0.2508\n",
      "Epoch 83/100, Train Loss: 0.0175, Test Loss: 0.2533\n",
      "Epoch 84/100, Train Loss: 0.0173, Test Loss: 0.2552\n",
      "Epoch 85/100, Train Loss: 0.0159, Test Loss: 0.2514\n",
      "Epoch 86/100, Train Loss: 0.0153, Test Loss: 0.2597\n",
      "Epoch 87/100, Train Loss: 0.0144, Test Loss: 0.2607\n",
      "Epoch 88/100, Train Loss: 0.0137, Test Loss: 0.2712\n",
      "Epoch 89/100, Train Loss: 0.0138, Test Loss: 0.2757\n",
      "Epoch 90/100, Train Loss: 0.0128, Test Loss: 0.2805\n",
      "Epoch 91/100, Train Loss: 0.0123, Test Loss: 0.2899\n",
      "Epoch 92/100, Train Loss: 0.0120, Test Loss: 0.2915\n",
      "Epoch 93/100, Train Loss: 0.0117, Test Loss: 0.2983\n",
      "Epoch 94/100, Train Loss: 0.0118, Test Loss: 0.3120\n",
      "Epoch 95/100, Train Loss: 0.0125, Test Loss: 0.3119\n",
      "Epoch 96/100, Train Loss: 0.0352, Test Loss: 0.4857\n",
      "Epoch 97/100, Train Loss: 0.1023, Test Loss: 0.1939\n",
      "Epoch 98/100, Train Loss: 0.0275, Test Loss: 0.1859\n",
      "Epoch 99/100, Train Loss: 0.0252, Test Loss: 0.2013\n",
      "Epoch 100/100, Train Loss: 0.0183, Test Loss: 0.1991\n"
     ]
    }
   ],
   "source": [
    "num_epochs = 100\n",
    "torch.cuda.manual_seed(42)\n",
    "torch.cuda.manual_seed_all(42)\n",
    "train_losses = []\n",
    "test_losses = []\n",
    "for epoch in range(num_epochs):\n",
    "    # Training phase\n",
    "    model.train()\n",
    "    train_loss = 0.0\n",
    "    for images, labels in train_loader:\n",
    "        images, labels = images.to(device), labels.to(device)\n",
    "        \n",
    "        optimizer.zero_grad()\n",
    "        logits = model(images)\n",
    "        loss = loss_fn(logits, labels.unsqueeze(1).float())\n",
    "        \n",
    "        loss.backward()\n",
    "        optimizer.step()\n",
    "        \n",
    "        train_loss += loss.item() * labels.size(0)\n",
    "\n",
    "    avg_train_loss = train_loss / len(train_loader.dataset)\n",
    "    \n",
    "    # Test phase\n",
    "    avg_test_loss = test_loss(model, test_loader)\n",
    "    \n",
    "    print(f\"Epoch {epoch+1}/{num_epochs}, Train Loss: {avg_train_loss:.4f}, Test Loss: {avg_test_loss:.4f}\")\n",
    "    train_losses.append(avg_train_loss)\n",
    "    test_losses.append(avg_test_loss)\n",
    "    \n",
    "    if avg_test_loss < 0.12:\n",
    "        torch.save(model.state_dict(), f'cnn_model_DI_epoch{epoch}.pth')\n",
    "        break"
   ]
  },
  {
   "cell_type": "markdown",
   "metadata": {},
   "source": [
    "**Learning Curve**"
   ]
  },
  {
   "cell_type": "code",
   "execution_count": 24,
   "metadata": {
    "execution": {
     "iopub.execute_input": "2024-11-18T01:00:56.653474Z",
     "iopub.status.busy": "2024-11-18T01:00:56.653155Z",
     "iopub.status.idle": "2024-11-18T01:00:56.657602Z",
     "shell.execute_reply": "2024-11-18T01:00:56.656615Z",
     "shell.execute_reply.started": "2024-11-18T01:00:56.653442Z"
    },
    "trusted": true
   },
   "outputs": [],
   "source": [
    "import matplotlib.pyplot as plt"
   ]
  },
  {
   "cell_type": "code",
   "execution_count": null,
   "metadata": {
    "execution": {
     "iopub.execute_input": "2024-11-18T01:00:56.659160Z",
     "iopub.status.busy": "2024-11-18T01:00:56.658804Z",
     "iopub.status.idle": "2024-11-18T01:00:57.055255Z",
     "shell.execute_reply": "2024-11-18T01:00:57.054269Z",
     "shell.execute_reply.started": "2024-11-18T01:00:56.659118Z"
    },
    "trusted": true
   },
   "outputs": [
    {
     "data": {
      "image/png": "[encoded data removed]",
      "text/plain": [
       "<Figure size 1200x500 with 1 Axes>"
      ]
     },
     "metadata": {},
     "output_type": "display_data"
    }
   ],
   "source": [
    "plt.figure(figsize=(12, 5))\n",
    "\n",
    "plt.subplot(1, 2, 1)  \n",
    "plt.plot(range(1, num_epochs + 1), train_losses, label='Training Loss', color='blue')\n",
    "plt.plot(range(1, num_epochs + 1), test_losses, label='Test Loss', color='orange')\n",
    "plt.title('Training and Test Loss')\n",
    "plt.xlabel('Epochs')\n",
    "plt.ylabel('Loss')\n",
    "plt.legend()\n",
    "plt.grid()\n",
    "\n",
    "plt.tight_layout()\n",
    "plt.show()"
   ]
  }
 ],
 "metadata": {
  "kaggle": {
   "accelerator": "gpu",
   "dataSources": [
    {
     "datasetId": 6101644,
     "sourceId": 9926974,
     "sourceType": "datasetVersion"
    },
    {
     "datasetId": 6102367,
     "sourceId": 9928050,
     "sourceType": "datasetVersion"
    }
   ],
   "dockerImageVersionId": 30787,
   "isGpuEnabled": true,
   "isInternetEnabled": true,
   "language": "python",
   "sourceType": "notebook"
  },
  "kernelspec": {
   "display_name": "Python 3",
   "language": "python",
   "name": "python3"
  },
  "language_info": {
   "codemirror_mode": {
    "name": "ipython",
    "version": 3
   },
   "file_extension": ".py",
   "mimetype": "text/x-python",
   "name": "python",
   "nbconvert_exporter": "python",
   "pygments_lexer": "ipython3",
   "version": "3.10.14"
  }
 },
 "nbformat": 4,
 "nbformat_minor": 4
}
