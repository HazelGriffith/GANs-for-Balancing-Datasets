{
 "cells": [
  {
   "cell_type": "markdown",
   "metadata": {},
   "source": [
    "# CNN Training of Unbalanced DeepInsight Data\n",
    "**Author:** Puxin\n",
    " \n",
    "**Latest version date:** 2024-12-01  "
   ]
  },
  {
   "cell_type": "code",
   "execution_count": 1,
   "metadata": {
    "execution": {
     "iopub.execute_input": "2024-12-01T23:30:43.157188Z",
     "iopub.status.busy": "2024-12-01T23:30:43.155896Z",
     "iopub.status.idle": "2024-12-01T23:30:46.279816Z",
     "shell.execute_reply": "2024-12-01T23:30:46.278804Z",
     "shell.execute_reply.started": "2024-12-01T23:30:43.157145Z"
    },
    "trusted": true
   },
   "outputs": [],
   "source": [
    "import torch"
   ]
  },
  {
   "cell_type": "markdown",
   "metadata": {},
   "source": [
    "**Usage of GPU**"
   ]
  },
  {
   "cell_type": "code",
   "execution_count": 2,
   "metadata": {
    "execution": {
     "iopub.execute_input": "2024-12-01T23:30:46.282025Z",
     "iopub.status.busy": "2024-12-01T23:30:46.281544Z",
     "iopub.status.idle": "2024-12-01T23:30:46.320265Z",
     "shell.execute_reply": "2024-12-01T23:30:46.319432Z",
     "shell.execute_reply.started": "2024-12-01T23:30:46.281984Z"
    },
    "trusted": true
   },
   "outputs": [
    {
     "name": "stdout",
     "output_type": "stream",
     "text": [
      "Using device: cuda\n"
     ]
    }
   ],
   "source": [
    "device = torch.device(\"cuda\" if torch.cuda.is_available() else \"cpu\")\n",
    "print(f\"Using device: {device}\")"
   ]
  },
  {
   "cell_type": "markdown",
   "metadata": {},
   "source": [
    "**Reproducibility**"
   ]
  },
  {
   "cell_type": "code",
   "execution_count": 3,
   "metadata": {
    "execution": {
     "iopub.execute_input": "2024-12-01T23:30:46.321680Z",
     "iopub.status.busy": "2024-12-01T23:30:46.321366Z",
     "iopub.status.idle": "2024-12-01T23:30:46.339867Z",
     "shell.execute_reply": "2024-12-01T23:30:46.339039Z",
     "shell.execute_reply.started": "2024-12-01T23:30:46.321641Z"
    },
    "trusted": true
   },
   "outputs": [],
   "source": [
    "torch.backends.cudnn.deterministic = True\n",
    "torch.backends.cudnn.benchmark = False"
   ]
  },
  {
   "cell_type": "code",
   "execution_count": 4,
   "metadata": {
    "execution": {
     "iopub.execute_input": "2024-12-01T23:30:46.342616Z",
     "iopub.status.busy": "2024-12-01T23:30:46.342295Z",
     "iopub.status.idle": "2024-12-01T23:30:46.355306Z",
     "shell.execute_reply": "2024-12-01T23:30:46.354372Z",
     "shell.execute_reply.started": "2024-12-01T23:30:46.342589Z"
    },
    "trusted": true
   },
   "outputs": [],
   "source": [
    "import random\n",
    "import numpy as np"
   ]
  },
  {
   "cell_type": "code",
   "execution_count": null,
   "metadata": {
    "execution": {
     "iopub.execute_input": "2024-12-01T23:30:46.356828Z",
     "iopub.status.busy": "2024-12-01T23:30:46.356450Z",
     "iopub.status.idle": "2024-12-01T23:30:46.381814Z",
     "shell.execute_reply": "2024-12-01T23:30:46.380905Z",
     "shell.execute_reply.started": "2024-12-01T23:30:46.356779Z"
    },
    "trusted": true
   },
   "outputs": [],
   "source": [
    "def set_seed(seed):\n",
    "    random.seed(seed)\n",
    "    np.random.seed(seed)\n",
    "    torch.manual_seed(seed)\n",
    "    if torch.cuda.is_available():\n",
    "        torch.cuda.manual_seed(seed)\n",
    "        torch.cuda.manual_seed_all(seed)  \n",
    "\n",
    "set_seed(2024)"
   ]
  },
  {
   "cell_type": "markdown",
   "metadata": {},
   "source": [
    "**Original input image**"
   ]
  },
  {
   "cell_type": "code",
   "execution_count": 6,
   "metadata": {
    "execution": {
     "iopub.execute_input": "2024-12-01T23:30:46.383436Z",
     "iopub.status.busy": "2024-12-01T23:30:46.383101Z",
     "iopub.status.idle": "2024-12-01T23:30:46.411865Z",
     "shell.execute_reply": "2024-12-01T23:30:46.410872Z",
     "shell.execute_reply.started": "2024-12-01T23:30:46.383402Z"
    },
    "trusted": true
   },
   "outputs": [
    {
     "name": "stdout",
     "output_type": "stream",
     "text": [
      "Image mode: I;16\n"
     ]
    }
   ],
   "source": [
    "from PIL import Image\n",
    "\n",
    "# Load the image\n",
    "image = Image.open(\"/kaggle/input/deepinsight-unbalanced/Unbalanced/malign/sample100.png\")\n",
    "\n",
    "# Check the image mode\n",
    "print(\"Image mode:\", image.mode)"
   ]
  },
  {
   "cell_type": "markdown",
   "metadata": {},
   "source": [
    "**Load images**"
   ]
  },
  {
   "cell_type": "code",
   "execution_count": 7,
   "metadata": {
    "execution": {
     "iopub.execute_input": "2024-12-01T23:30:46.413095Z",
     "iopub.status.busy": "2024-12-01T23:30:46.412798Z",
     "iopub.status.idle": "2024-12-01T23:30:47.448670Z",
     "shell.execute_reply": "2024-12-01T23:30:47.447945Z",
     "shell.execute_reply.started": "2024-12-01T23:30:46.413067Z"
    },
    "trusted": true
   },
   "outputs": [],
   "source": [
    "import torch.nn as nn\n",
    "from torchvision import datasets, transforms\n",
    "from torch.utils.data import DataLoader"
   ]
  },
  {
   "cell_type": "code",
   "execution_count": 8,
   "metadata": {
    "execution": {
     "iopub.execute_input": "2024-12-01T23:30:47.450593Z",
     "iopub.status.busy": "2024-12-01T23:30:47.449813Z",
     "iopub.status.idle": "2024-12-01T23:30:47.454829Z",
     "shell.execute_reply": "2024-12-01T23:30:47.453906Z",
     "shell.execute_reply.started": "2024-12-01T23:30:47.450553Z"
    },
    "trusted": true
   },
   "outputs": [],
   "source": [
    "def convert_I_mode(image):\n",
    "    # Convert 'I' mode images to 'L'\n",
    "    if image.mode == 'I':\n",
    "        image = image.convert('L')\n",
    "    return image"
   ]
  },
  {
   "cell_type": "code",
   "execution_count": null,
   "metadata": {
    "execution": {
     "iopub.execute_input": "2024-12-01T23:30:47.455994Z",
     "iopub.status.busy": "2024-12-01T23:30:47.455764Z",
     "iopub.status.idle": "2024-12-01T23:30:47.466326Z",
     "shell.execute_reply": "2024-12-01T23:30:47.465699Z",
     "shell.execute_reply.started": "2024-12-01T23:30:47.455970Z"
    },
    "trusted": true
   },
   "outputs": [],
   "source": [
    "# Define the transformations\n",
    "transform = transforms.Compose([\n",
    "    transforms.Lambda(convert_I_mode),            \n",
    "    transforms.Grayscale(num_output_channels=1),  \n",
    "    transforms.Resize((64, 64)),                  \n",
    "    transforms.ToTensor(),                        \n",
    "])"
   ]
  },
  {
   "cell_type": "code",
   "execution_count": 10,
   "metadata": {
    "execution": {
     "iopub.execute_input": "2024-12-01T23:30:47.469294Z",
     "iopub.status.busy": "2024-12-01T23:30:47.469037Z",
     "iopub.status.idle": "2024-12-01T23:30:50.299479Z",
     "shell.execute_reply": "2024-12-01T23:30:50.298556Z",
     "shell.execute_reply.started": "2024-12-01T23:30:47.469270Z"
    },
    "trusted": true
   },
   "outputs": [],
   "source": [
    "dataset_path = \"/kaggle/input/deepinsight-unbalanced/Unbalanced\"\n",
    "dataset = datasets.ImageFolder(root=dataset_path, transform=transform)"
   ]
  },
  {
   "cell_type": "code",
   "execution_count": 11,
   "metadata": {
    "execution": {
     "iopub.execute_input": "2024-12-01T23:30:50.300841Z",
     "iopub.status.busy": "2024-12-01T23:30:50.300570Z",
     "iopub.status.idle": "2024-12-01T23:30:50.305567Z",
     "shell.execute_reply": "2024-12-01T23:30:50.304665Z",
     "shell.execute_reply.started": "2024-12-01T23:30:50.300817Z"
    },
    "trusted": true
   },
   "outputs": [
    {
     "name": "stdout",
     "output_type": "stream",
     "text": [
      "{0: 'benign', 1: 'malign'}\n"
     ]
    }
   ],
   "source": [
    "# Get a dictionary associating the class index with the class name\n",
    "target_to_class = {v: k for k, v in dataset.class_to_idx.items()}\n",
    "print(target_to_class)"
   ]
  },
  {
   "cell_type": "code",
   "execution_count": null,
   "metadata": {
    "execution": {
     "iopub.execute_input": "2024-12-01T23:30:50.306691Z",
     "iopub.status.busy": "2024-12-01T23:30:50.306446Z",
     "iopub.status.idle": "2024-12-01T23:30:50.319102Z",
     "shell.execute_reply": "2024-12-01T23:30:50.318288Z",
     "shell.execute_reply.started": "2024-12-01T23:30:50.306667Z"
    },
    "trusted": true
   },
   "outputs": [
    {
     "name": "stdout",
     "output_type": "stream",
     "text": [
      "Classes: ['benign', 'malign']\n",
      "Class: benign, Count: 3000\n",
      "Class: malign, Count: 1465\n"
     ]
    }
   ],
   "source": [
    "from collections import Counter\n",
    "\n",
    "labels = dataset.targets\n",
    "label_counts = Counter(labels)\n",
    "\n",
    "# Print the counts for each label\n",
    "print(f\"Classes: {dataset.classes}\")\n",
    "for label, count in label_counts.items():\n",
    "    class_name = dataset.classes[label]  \n",
    "    print(f\"Class: {class_name}, Count: {count}\")"
   ]
  },
  {
   "cell_type": "markdown",
   "metadata": {},
   "source": [
    "**Split the data: stratified split**"
   ]
  },
  {
   "cell_type": "code",
   "execution_count": 13,
   "metadata": {
    "execution": {
     "iopub.execute_input": "2024-12-01T23:30:50.320669Z",
     "iopub.status.busy": "2024-12-01T23:30:50.320293Z",
     "iopub.status.idle": "2024-12-01T23:30:50.956889Z",
     "shell.execute_reply": "2024-12-01T23:30:50.956227Z",
     "shell.execute_reply.started": "2024-12-01T23:30:50.320615Z"
    },
    "trusted": true
   },
   "outputs": [],
   "source": [
    "from sklearn.model_selection import train_test_split\n",
    "labels = dataset.targets\n",
    "\n",
    "train_idx, test_idx = train_test_split(\n",
    "    np.arange(len(labels)),\n",
    "    test_size=0.2,\n",
    "    random_state=2024,\n",
    "    shuffle=True,\n",
    "    stratify=labels)"
   ]
  },
  {
   "cell_type": "code",
   "execution_count": 14,
   "metadata": {
    "execution": {
     "iopub.execute_input": "2024-12-01T23:30:50.958472Z",
     "iopub.status.busy": "2024-12-01T23:30:50.958024Z",
     "iopub.status.idle": "2024-12-01T23:30:50.962973Z",
     "shell.execute_reply": "2024-12-01T23:30:50.962072Z",
     "shell.execute_reply.started": "2024-12-01T23:30:50.958443Z"
    },
    "trusted": true
   },
   "outputs": [
    {
     "name": "stdout",
     "output_type": "stream",
     "text": [
      "Training set count: 3572\n",
      "test set count: 893\n"
     ]
    }
   ],
   "source": [
    "print(f\"Training set count: {len(train_idx)}\")\n",
    "print(f\"test set count: {len(test_idx)}\")"
   ]
  },
  {
   "cell_type": "code",
   "execution_count": 15,
   "metadata": {
    "execution": {
     "iopub.execute_input": "2024-12-01T23:30:50.964477Z",
     "iopub.status.busy": "2024-12-01T23:30:50.964223Z",
     "iopub.status.idle": "2024-12-01T23:30:50.976871Z",
     "shell.execute_reply": "2024-12-01T23:30:50.976178Z",
     "shell.execute_reply.started": "2024-12-01T23:30:50.964450Z"
    },
    "trusted": true
   },
   "outputs": [],
   "source": [
    "from torch.utils.data import Subset\n",
    "# Subset dataset for train and test\n",
    "train_dataset = Subset(dataset, train_idx)\n",
    "test_dataset= Subset(dataset, test_idx)\n",
    "\n",
    "# Dataloader for train and test\n",
    "train_loader = DataLoader(train_dataset, batch_size=32, shuffle=False) \n",
    "test_loader = DataLoader(test_dataset, batch_size=32, shuffle=False)"
   ]
  },
  {
   "cell_type": "code",
   "execution_count": null,
   "metadata": {
    "execution": {
     "iopub.execute_input": "2024-12-01T23:30:50.977974Z",
     "iopub.status.busy": "2024-12-01T23:30:50.977749Z",
     "iopub.status.idle": "2024-12-01T23:30:51.136442Z",
     "shell.execute_reply": "2024-12-01T23:30:51.135550Z",
     "shell.execute_reply.started": "2024-12-01T23:30:50.977952Z"
    },
    "trusted": true
   },
   "outputs": [
    {
     "name": "stdout",
     "output_type": "stream",
     "text": [
      "Images batch shape: torch.Size([32, 1, 64, 64])\n",
      "Labels batch: tensor([0, 1, 0, 0, 0, 1, 0, 0, 0, 1, 0, 0, 1, 0, 1, 0, 1, 0, 1, 1, 0, 1, 0, 1,\n",
      "        0, 0, 0, 0, 1, 1, 0, 0])\n"
     ]
    }
   ],
   "source": [
    "for images, labels in train_loader:\n",
    "    print(f\"Images batch shape: {images.shape}\")  \n",
    "    print(f\"Labels batch: {labels}\")\n",
    "    break"
   ]
  },
  {
   "cell_type": "code",
   "execution_count": null,
   "metadata": {
    "execution": {
     "iopub.execute_input": "2024-12-01T23:30:51.137786Z",
     "iopub.status.busy": "2024-12-01T23:30:51.137531Z",
     "iopub.status.idle": "2024-12-01T23:30:51.239788Z",
     "shell.execute_reply": "2024-12-01T23:30:51.238915Z",
     "shell.execute_reply.started": "2024-12-01T23:30:51.137760Z"
    },
    "trusted": true
   },
   "outputs": [
    {
     "name": "stdout",
     "output_type": "stream",
     "text": [
      "Images batch shape: torch.Size([32, 1, 64, 64])\n",
      "Labels batch: tensor([0, 0, 0, 0, 1, 0, 1, 0, 1, 0, 1, 0, 0, 0, 0, 1, 1, 0, 1, 0, 1, 1, 0, 0,\n",
      "        0, 1, 0, 1, 0, 0, 0, 1])\n"
     ]
    }
   ],
   "source": [
    "for images, labels in test_loader:\n",
    "    print(f\"Images batch shape: {images.shape}\")  \n",
    "    print(f\"Labels batch: {labels}\")\n",
    "    break"
   ]
  },
  {
   "cell_type": "markdown",
   "metadata": {},
   "source": [
    "**CNN**"
   ]
  },
  {
   "cell_type": "code",
   "execution_count": 18,
   "metadata": {
    "execution": {
     "iopub.execute_input": "2024-12-01T23:30:51.241042Z",
     "iopub.status.busy": "2024-12-01T23:30:51.240760Z",
     "iopub.status.idle": "2024-12-01T23:30:51.245153Z",
     "shell.execute_reply": "2024-12-01T23:30:51.244198Z",
     "shell.execute_reply.started": "2024-12-01T23:30:51.240994Z"
    },
    "trusted": true
   },
   "outputs": [],
   "source": [
    "import torch.nn.functional as F"
   ]
  },
  {
   "cell_type": "code",
   "execution_count": null,
   "metadata": {
    "execution": {
     "iopub.execute_input": "2024-12-01T23:30:51.246649Z",
     "iopub.status.busy": "2024-12-01T23:30:51.246296Z",
     "iopub.status.idle": "2024-12-01T23:30:51.434106Z",
     "shell.execute_reply": "2024-12-01T23:30:51.433387Z",
     "shell.execute_reply.started": "2024-12-01T23:30:51.246612Z"
    },
    "trusted": true
   },
   "outputs": [],
   "source": [
    "# Define the CNN architecture\n",
    "model = nn.Sequential(\n",
    "    nn.Conv2d(in_channels=1, out_channels=32, kernel_size=3, stride=1, padding=0),\n",
    "    nn.ReLU(),\n",
    "    nn.MaxPool2d(2, 2),\n",
    "    nn.Conv2d(in_channels=32, out_channels=64, kernel_size=3, stride=1, padding=0),\n",
    "    nn.ReLU(),\n",
    "    nn.MaxPool2d(kernel_size=2, stride=2, padding=1),\n",
    "            \n",
    "    nn.Flatten(),\n",
    "    nn.Linear(64 * 15 * 15, 128),\n",
    "    nn.ReLU(),\n",
    "    nn.Linear(128, 1)).to(device)"
   ]
  },
  {
   "cell_type": "code",
   "execution_count": null,
   "metadata": {
    "execution": {
     "iopub.execute_input": "2024-12-01T23:30:51.435379Z",
     "iopub.status.busy": "2024-12-01T23:30:51.435104Z",
     "iopub.status.idle": "2024-12-01T23:30:51.439679Z",
     "shell.execute_reply": "2024-12-01T23:30:51.438875Z",
     "shell.execute_reply.started": "2024-12-01T23:30:51.435353Z"
    },
    "trusted": true
   },
   "outputs": [],
   "source": [
    "#loss\n",
    "loss_fn = nn.BCEWithLogitsLoss() \n",
    "\n",
    "#optimizer\n",
    "optimizer = torch.optim.Adam(model.parameters(), lr=0.01) "
   ]
  },
  {
   "cell_type": "code",
   "execution_count": null,
   "metadata": {
    "execution": {
     "iopub.execute_input": "2024-12-01T23:30:51.441150Z",
     "iopub.status.busy": "2024-12-01T23:30:51.440804Z",
     "iopub.status.idle": "2024-12-01T23:30:51.454250Z",
     "shell.execute_reply": "2024-12-01T23:30:51.453542Z",
     "shell.execute_reply.started": "2024-12-01T23:30:51.441115Z"
    },
    "trusted": true
   },
   "outputs": [],
   "source": [
    "def test_loss(model, test_loader):\n",
    "    model.eval()  \n",
    "    test_loss = 0.0\n",
    "    \n",
    "    with torch.no_grad():  \n",
    "        for images, labels in test_loader:\n",
    "            images, labels = images.to(device), labels.to(device)\n",
    "            \n",
    "            logits = model(images)\n",
    "            \n",
    "            loss = loss_fn(logits, labels.unsqueeze(1).float())\n",
    "            test_loss += loss.item() * labels.size(0)\n",
    "    \n",
    "    avg_test_loss = test_loss / len(test_loader.dataset)\n",
    "    return avg_test_loss"
   ]
  },
  {
   "cell_type": "code",
   "execution_count": null,
   "metadata": {
    "execution": {
     "iopub.execute_input": "2024-12-01T23:30:51.455293Z",
     "iopub.status.busy": "2024-12-01T23:30:51.455081Z",
     "iopub.status.idle": "2024-12-01T23:37:50.678264Z",
     "shell.execute_reply": "2024-12-01T23:37:50.677376Z",
     "shell.execute_reply.started": "2024-12-01T23:30:51.455271Z"
    },
    "trusted": true
   },
   "outputs": [
    {
     "name": "stdout",
     "output_type": "stream",
     "text": [
      "Epoch 1/100, Train Loss: 0.6155, Test Loss: 0.3861\n",
      "Epoch 2/100, Train Loss: 0.2944, Test Loss: 0.2537\n",
      "Epoch 3/100, Train Loss: 0.2413, Test Loss: 0.2066\n",
      "Epoch 4/100, Train Loss: 0.2088, Test Loss: 0.1846\n",
      "Epoch 5/100, Train Loss: 0.1862, Test Loss: 0.1792\n",
      "Epoch 6/100, Train Loss: 0.1716, Test Loss: 0.1971\n",
      "Epoch 7/100, Train Loss: 0.1602, Test Loss: 0.1575\n",
      "Epoch 8/100, Train Loss: 0.1398, Test Loss: 0.1576\n",
      "Epoch 9/100, Train Loss: 0.1257, Test Loss: 0.1445\n",
      "Epoch 10/100, Train Loss: 0.1119, Test Loss: 0.1481\n",
      "Epoch 11/100, Train Loss: 0.1127, Test Loss: 0.1498\n",
      "Epoch 12/100, Train Loss: 0.1053, Test Loss: 0.1512\n",
      "Epoch 13/100, Train Loss: 0.1003, Test Loss: 0.1428\n",
      "Epoch 14/100, Train Loss: 0.0900, Test Loss: 0.1614\n",
      "Epoch 15/100, Train Loss: 0.0905, Test Loss: 0.1690\n",
      "Epoch 16/100, Train Loss: 0.0910, Test Loss: 0.1442\n",
      "Epoch 17/100, Train Loss: 0.0772, Test Loss: 0.1811\n",
      "Epoch 18/100, Train Loss: 0.0705, Test Loss: 0.2023\n",
      "Epoch 19/100, Train Loss: 0.0813, Test Loss: 0.1767\n",
      "Epoch 20/100, Train Loss: 0.0684, Test Loss: 0.2033\n",
      "Epoch 21/100, Train Loss: 0.0806, Test Loss: 0.1997\n",
      "Epoch 22/100, Train Loss: 0.0609, Test Loss: 0.1493\n",
      "Epoch 23/100, Train Loss: 0.0653, Test Loss: 0.1406\n",
      "Epoch 24/100, Train Loss: 0.0650, Test Loss: 0.1604\n",
      "Epoch 25/100, Train Loss: 0.0638, Test Loss: 0.1784\n",
      "Epoch 26/100, Train Loss: 0.0637, Test Loss: 0.1629\n",
      "Epoch 27/100, Train Loss: 0.0585, Test Loss: 0.1698\n",
      "Epoch 28/100, Train Loss: 0.0703, Test Loss: 0.1366\n",
      "Epoch 29/100, Train Loss: 0.0625, Test Loss: 0.1449\n",
      "Epoch 30/100, Train Loss: 0.0598, Test Loss: 0.1720\n",
      "Epoch 31/100, Train Loss: 0.0612, Test Loss: 0.2004\n",
      "Epoch 32/100, Train Loss: 0.0596, Test Loss: 0.1862\n",
      "Epoch 33/100, Train Loss: 0.0633, Test Loss: 0.1619\n",
      "Epoch 34/100, Train Loss: 0.0659, Test Loss: 0.2149\n",
      "Epoch 35/100, Train Loss: 0.0673, Test Loss: 0.1774\n",
      "Epoch 36/100, Train Loss: 0.0582, Test Loss: 0.2142\n",
      "Epoch 37/100, Train Loss: 0.0565, Test Loss: 0.1557\n",
      "Epoch 38/100, Train Loss: 0.0512, Test Loss: 0.1338\n",
      "Epoch 39/100, Train Loss: 0.0429, Test Loss: 0.1727\n",
      "Epoch 40/100, Train Loss: 0.0544, Test Loss: 0.1244\n",
      "Epoch 41/100, Train Loss: 0.0465, Test Loss: 0.1464\n",
      "Epoch 42/100, Train Loss: 0.0441, Test Loss: 0.1363\n",
      "Epoch 43/100, Train Loss: 0.0389, Test Loss: 0.1536\n",
      "Epoch 44/100, Train Loss: 0.0368, Test Loss: 0.1387\n",
      "Epoch 45/100, Train Loss: 0.0554, Test Loss: 0.1946\n",
      "Epoch 46/100, Train Loss: 0.0458, Test Loss: 0.1765\n",
      "Epoch 47/100, Train Loss: 0.0371, Test Loss: 0.1729\n",
      "Epoch 48/100, Train Loss: 0.0365, Test Loss: 0.1792\n",
      "Epoch 49/100, Train Loss: 0.0517, Test Loss: 0.1571\n",
      "Epoch 50/100, Train Loss: 0.0429, Test Loss: 0.1980\n",
      "Epoch 51/100, Train Loss: 0.0411, Test Loss: 0.1753\n",
      "Epoch 52/100, Train Loss: 0.0528, Test Loss: 0.1831\n",
      "Epoch 53/100, Train Loss: 0.0359, Test Loss: 0.1661\n",
      "Epoch 54/100, Train Loss: 0.0368, Test Loss: 0.1899\n",
      "Epoch 55/100, Train Loss: 0.0312, Test Loss: 0.1741\n",
      "Epoch 56/100, Train Loss: 0.0524, Test Loss: 0.3289\n",
      "Epoch 57/100, Train Loss: 0.0525, Test Loss: 0.1977\n",
      "Epoch 58/100, Train Loss: 0.0387, Test Loss: 0.1895\n",
      "Epoch 59/100, Train Loss: 0.0321, Test Loss: 0.1668\n",
      "Epoch 60/100, Train Loss: 0.0319, Test Loss: 0.1756\n",
      "Epoch 61/100, Train Loss: 0.0289, Test Loss: 0.1788\n",
      "Epoch 62/100, Train Loss: 0.0299, Test Loss: 0.1859\n",
      "Epoch 63/100, Train Loss: 0.0584, Test Loss: 0.2008\n",
      "Epoch 64/100, Train Loss: 0.0340, Test Loss: 0.1971\n",
      "Epoch 65/100, Train Loss: 0.0350, Test Loss: 0.1574\n",
      "Epoch 66/100, Train Loss: 0.0259, Test Loss: 0.1386\n",
      "Epoch 67/100, Train Loss: 0.0323, Test Loss: 0.2041\n",
      "Epoch 68/100, Train Loss: 0.0343, Test Loss: 0.2138\n",
      "Epoch 69/100, Train Loss: 0.0376, Test Loss: 0.1468\n",
      "Epoch 70/100, Train Loss: 0.0371, Test Loss: 0.1564\n",
      "Epoch 71/100, Train Loss: 0.0238, Test Loss: 0.1633\n",
      "Epoch 72/100, Train Loss: 0.0215, Test Loss: 0.1606\n",
      "Epoch 73/100, Train Loss: 0.0245, Test Loss: 0.1968\n",
      "Epoch 74/100, Train Loss: 0.0407, Test Loss: 0.1780\n",
      "Epoch 75/100, Train Loss: 0.0346, Test Loss: 0.2775\n",
      "Epoch 76/100, Train Loss: 0.0320, Test Loss: 0.1885\n",
      "Epoch 77/100, Train Loss: 0.0228, Test Loss: 0.1930\n",
      "Epoch 78/100, Train Loss: 0.0229, Test Loss: 0.2247\n",
      "Epoch 79/100, Train Loss: 0.0236, Test Loss: 0.1849\n",
      "Epoch 80/100, Train Loss: 0.0306, Test Loss: 0.2563\n",
      "Epoch 81/100, Train Loss: 0.0259, Test Loss: 0.2213\n",
      "Epoch 82/100, Train Loss: 0.0450, Test Loss: 0.3132\n",
      "Epoch 83/100, Train Loss: 0.0451, Test Loss: 0.1767\n",
      "Epoch 84/100, Train Loss: 0.0328, Test Loss: 0.1819\n",
      "Epoch 85/100, Train Loss: 0.0314, Test Loss: 0.1675\n",
      "Epoch 86/100, Train Loss: 0.0264, Test Loss: 0.1841\n",
      "Epoch 87/100, Train Loss: 0.0268, Test Loss: 0.2243\n",
      "Epoch 88/100, Train Loss: 0.0197, Test Loss: 0.1938\n",
      "Epoch 89/100, Train Loss: 0.0197, Test Loss: 0.2034\n",
      "Epoch 90/100, Train Loss: 0.0323, Test Loss: 0.3148\n",
      "Epoch 91/100, Train Loss: 0.0388, Test Loss: 0.2109\n",
      "Epoch 92/100, Train Loss: 0.0436, Test Loss: 0.2008\n",
      "Epoch 93/100, Train Loss: 0.0236, Test Loss: 0.2166\n",
      "Epoch 94/100, Train Loss: 0.0469, Test Loss: 0.1940\n",
      "Epoch 95/100, Train Loss: 0.0374, Test Loss: 0.2476\n",
      "Epoch 96/100, Train Loss: 0.0357, Test Loss: 0.1850\n",
      "Epoch 97/100, Train Loss: 0.0224, Test Loss: 0.1978\n",
      "Epoch 98/100, Train Loss: 0.0303, Test Loss: 0.2282\n",
      "Epoch 99/100, Train Loss: 0.0204, Test Loss: 0.2286\n",
      "Epoch 100/100, Train Loss: 0.0190, Test Loss: 0.2205\n"
     ]
    }
   ],
   "source": [
    "num_epochs = 100\n",
    "torch.manual_seed(2024)\n",
    "train_losses = []\n",
    "test_losses = []\n",
    "\n",
    "for epoch in range(num_epochs):\n",
    "    # Training phase\n",
    "    model.train()\n",
    "    train_loss = 0.0\n",
    "    for images, labels in train_loader:\n",
    "        images, labels = images.to(device), labels.to(device)\n",
    "        \n",
    "        optimizer.zero_grad()\n",
    "        logits = model(images)\n",
    "        loss = loss_fn(logits, labels.unsqueeze(1).float())\n",
    "        \n",
    "        loss.backward()\n",
    "        optimizer.step()\n",
    "        \n",
    "        train_loss += loss.item() * labels.size(0)\n",
    "\n",
    "    avg_train_loss = train_loss / len(train_loader.dataset)\n",
    "    \n",
    "    # Test phase\n",
    "    avg_test_loss = test_loss(model, test_loader)\n",
    "    \n",
    "    print(f\"Epoch {epoch+1}/{num_epochs}, Train Loss: {avg_train_loss:.4f}, Test Loss: {avg_test_loss:.4f}\")\n",
    "    train_losses.append(avg_train_loss)\n",
    "    test_losses.append(avg_test_loss)\n",
    "    \n",
    "    if avg_test_loss < 0.15:\n",
    "        torch.save(model.state_dict(), f'cnn_DI_UB_epoch{epoch+1}.pth')\n",
    "        torch.save(model.state_dict(), f'cnn_DI_UB_epoch{epoch+1}.pt') "
   ]
  },
  {
   "cell_type": "markdown",
   "metadata": {},
   "source": [
    "**Learning Curve**"
   ]
  },
  {
   "cell_type": "code",
   "execution_count": null,
   "metadata": {
    "execution": {
     "iopub.execute_input": "2024-12-01T23:39:48.152856Z",
     "iopub.status.busy": "2024-12-01T23:39:48.152126Z",
     "iopub.status.idle": "2024-12-01T23:39:48.406787Z",
     "shell.execute_reply": "2024-12-01T23:39:48.405831Z",
     "shell.execute_reply.started": "2024-12-01T23:39:48.152823Z"
    },
    "trusted": true
   },
   "outputs": [
    {
     "data": {
      "image/png": "[encoded data removed]",
      "text/plain": [
       "<Figure size 1200x500 with 1 Axes>"
      ]
     },
     "metadata": {},
     "output_type": "display_data"
    }
   ],
   "source": [
    "import matplotlib.pyplot as plt\n",
    "\n",
    "# Plotting the loss curve\n",
    "plt.figure(figsize=(12, 5))\n",
    "plt.subplot(1, 2, 1)  \n",
    "plt.plot(range(1, num_epochs + 1), train_losses, label='Training Loss', color='blue')\n",
    "plt.plot(range(1, num_epochs + 1), test_losses, label='Test Loss', color='orange')\n",
    "plt.xlabel('Epochs')\n",
    "plt.ylabel('Loss')\n",
    "plt.legend()\n",
    "plt.grid()\n",
    "\n",
    "plt.show()"
   ]
  }
 ],
 "metadata": {
  "kaggle": {
   "accelerator": "gpu",
   "dataSources": [
    {
     "datasetId": 6156958,
     "sourceId": 10002496,
     "sourceType": "datasetVersion"
    },
    {
     "datasetId": 6157812,
     "sourceId": 10003753,
     "sourceType": "datasetVersion"
    }
   ],
   "dockerImageVersionId": 30787,
   "isGpuEnabled": true,
   "isInternetEnabled": true,
   "language": "python",
   "sourceType": "notebook"
  },
  "kernelspec": {
   "display_name": "Python 3",
   "language": "python",
   "name": "python3"
  },
  "language_info": {
   "codemirror_mode": {
    "name": "ipython",
    "version": 3
   },
   "file_extension": ".py",
   "mimetype": "text/x-python",
   "name": "python",
   "nbconvert_exporter": "python",
   "pygments_lexer": "ipython3",
   "version": "3.10.14"
  }
 },
 "nbformat": 4,
 "nbformat_minor": 4
}
